{
  "cells": [
    {
      "cell_type": "code",
      "execution_count": 6,
      "metadata": {
        "id": "igMyGnjE9hEp"
      },
      "outputs": [],
      "source": [
        "import csv\n",
        "\n",
        "import numpy as np\n",
        "import tensorflow as tf\n",
        "from sklearn.model_selection import train_test_split\n",
        "\n",
        "RANDOM_SEED = 42"
      ]
    },
    {
      "cell_type": "markdown",
      "metadata": {
        "id": "t2HDvhIu9hEr"
      },
      "source": [
        "# Specify each path"
      ]
    },
    {
      "cell_type": "code",
      "execution_count": 7,
      "metadata": {
        "id": "9NvZP2Zn9hEy"
      },
      "outputs": [],
      "source": [
        "dataset = '/home/trinhnc/catkin_ws/src/ros_hand_gesture_recognition/src/model/keypoint_classifier/keypoint.csv'\n",
        "model_save_path = '/home/trinhnc/catkin_ws/src/ros_hand_gesture_recognition/src/model/keypoint_classifier/keypoint_classifier.hdf5'\n",
        "tflite_save_path = '/home/trinhnc/catkin_ws/src/ros_hand_gesture_recognition/src/model/keypoint_classifier/keypoint_classifier.tflite'"
      ]
    },
    {
      "cell_type": "markdown",
      "metadata": {
        "id": "s5oMH7x19hEz"
      },
      "source": [
        "# Set number of classes"
      ]
    },
    {
      "cell_type": "code",
      "execution_count": 18,
      "metadata": {
        "id": "du4kodXL9hEz"
      },
      "outputs": [],
      "source": [
        "NUM_CLASSES = 6"
      ]
    },
    {
      "cell_type": "markdown",
      "metadata": {
        "id": "XjnL0uso9hEz"
      },
      "source": [
        "# Dataset reading"
      ]
    },
    {
      "cell_type": "code",
      "execution_count": 19,
      "metadata": {
        "id": "QT5ZqtEz9hE0"
      },
      "outputs": [],
      "source": [
        "X_dataset = np.loadtxt(dataset, delimiter=',', dtype='float32', usecols=list(range(1, (21 * 2) + 1)))"
      ]
    },
    {
      "cell_type": "code",
      "execution_count": 20,
      "metadata": {
        "id": "QmoKFsp49hE0"
      },
      "outputs": [],
      "source": [
        "y_dataset = np.loadtxt(dataset, delimiter=',', dtype='int32', usecols=(0))"
      ]
    },
    {
      "cell_type": "code",
      "execution_count": 21,
      "metadata": {
        "id": "xQU7JTZ_9hE0"
      },
      "outputs": [],
      "source": [
        "X_train, X_test, y_train, y_test = train_test_split(X_dataset, y_dataset, train_size=0.75, random_state=RANDOM_SEED)"
      ]
    },
    {
      "cell_type": "markdown",
      "metadata": {
        "id": "mxK_lETT9hE0"
      },
      "source": [
        "# Model building"
      ]
    },
    {
      "cell_type": "code",
      "execution_count": 22,
      "metadata": {
        "id": "vHBmUf1t9hE1"
      },
      "outputs": [],
      "source": [
        "model = tf.keras.models.Sequential([\n",
        "    tf.keras.layers.Input((21 * 2, )),\n",
        "    tf.keras.layers.Dropout(0.2),\n",
        "    tf.keras.layers.Dense(20, activation='relu'),\n",
        "    tf.keras.layers.Dropout(0.4),\n",
        "    tf.keras.layers.Dense(10, activation='relu'),\n",
        "    tf.keras.layers.Dense(NUM_CLASSES, activation='softmax')\n",
        "])"
      ]
    },
    {
      "cell_type": "code",
      "execution_count": 23,
      "metadata": {
        "colab": {
          "base_uri": "https://localhost:8080/"
        },
        "id": "ypqky9tc9hE1",
        "outputId": "5db082bb-30e3-4110-bf63-a1ee777ecd46"
      },
      "outputs": [
        {
          "name": "stdout",
          "output_type": "stream",
          "text": [
            "Model: \"sequential_1\"\n",
            "_________________________________________________________________\n",
            " Layer (type)                Output Shape              Param #   \n",
            "=================================================================\n",
            " dropout_2 (Dropout)         (None, 42)                0         \n",
            "                                                                 \n",
            " dense_3 (Dense)             (None, 20)                860       \n",
            "                                                                 \n",
            " dropout_3 (Dropout)         (None, 20)                0         \n",
            "                                                                 \n",
            " dense_4 (Dense)             (None, 10)                210       \n",
            "                                                                 \n",
            " dense_5 (Dense)             (None, 6)                 66        \n",
            "                                                                 \n",
            "=================================================================\n",
            "Total params: 1,136\n",
            "Trainable params: 1,136\n",
            "Non-trainable params: 0\n",
            "_________________________________________________________________\n"
          ]
        }
      ],
      "source": [
        "model.summary()  # tf.keras.utils.plot_model(model, show_shapes=True)"
      ]
    },
    {
      "cell_type": "code",
      "execution_count": 24,
      "metadata": {
        "id": "MbMjOflQ9hE1"
      },
      "outputs": [],
      "source": [
        "# Model checkpoint callback\n",
        "cp_callback = tf.keras.callbacks.ModelCheckpoint(\n",
        "    model_save_path, verbose=1, save_weights_only=False)\n",
        "# Callback for early stopping\n",
        "es_callback = tf.keras.callbacks.EarlyStopping(patience=20, verbose=1)"
      ]
    },
    {
      "cell_type": "code",
      "execution_count": 25,
      "metadata": {
        "id": "c3Dac0M_9hE2"
      },
      "outputs": [],
      "source": [
        "# Model compilation\n",
        "model.compile(\n",
        "    optimizer='adam',\n",
        "    loss='sparse_categorical_crossentropy',\n",
        "    metrics=['accuracy']\n",
        ")"
      ]
    },
    {
      "cell_type": "markdown",
      "metadata": {
        "id": "7XI0j1Iu9hE2"
      },
      "source": [
        "# Model training"
      ]
    },
    {
      "cell_type": "code",
      "execution_count": 26,
      "metadata": {
        "colab": {
          "base_uri": "https://localhost:8080/"
        },
        "id": "WirBl-JE9hE3",
        "outputId": "71b30ca2-8294-4d9d-8aa2-800d90d399de",
        "scrolled": true
      },
      "outputs": [
        {
          "name": "stdout",
          "output_type": "stream",
          "text": [
            "Epoch 1/1000\n",
            "28/38 [=====================>........] - ETA: 0s - loss: 1.8059 - accuracy: 0.2252\n",
            "Epoch 1: saving model to /home/trinhnc/catkin_ws/src/ros_hand_gesture_recognition/src/model/keypoint_classifier/keypoint_classifier.hdf5\n",
            "38/38 [==============================] - 1s 16ms/step - loss: 1.7791 - accuracy: 0.2399 - val_loss: 1.6251 - val_accuracy: 0.3581\n",
            "Epoch 2/1000\n",
            "32/38 [========================>.....] - ETA: 0s - loss: 1.5990 - accuracy: 0.3284\n",
            "Epoch 2: saving model to /home/trinhnc/catkin_ws/src/ros_hand_gesture_recognition/src/model/keypoint_classifier/keypoint_classifier.hdf5\n",
            "38/38 [==============================] - 0s 6ms/step - loss: 1.5884 - accuracy: 0.3320 - val_loss: 1.4731 - val_accuracy: 0.3830\n",
            "Epoch 3/1000\n",
            "26/38 [===================>..........] - ETA: 0s - loss: 1.4777 - accuracy: 0.3705\n",
            "Epoch 3: saving model to /home/trinhnc/catkin_ws/src/ros_hand_gesture_recognition/src/model/keypoint_classifier/keypoint_classifier.hdf5\n",
            "38/38 [==============================] - 0s 4ms/step - loss: 1.4613 - accuracy: 0.3811 - val_loss: 1.3373 - val_accuracy: 0.4454\n",
            "Epoch 4/1000\n",
            "18/38 [=============>................] - ETA: 0s - loss: 1.3797 - accuracy: 0.4184\n",
            "Epoch 4: saving model to /home/trinhnc/catkin_ws/src/ros_hand_gesture_recognition/src/model/keypoint_classifier/keypoint_classifier.hdf5\n",
            "38/38 [==============================] - 0s 4ms/step - loss: 1.3426 - accuracy: 0.4294 - val_loss: 1.1713 - val_accuracy: 0.5097\n",
            "Epoch 5/1000\n",
            "30/38 [======================>.......] - ETA: 0s - loss: 1.2390 - accuracy: 0.4742\n",
            "Epoch 5: saving model to /home/trinhnc/catkin_ws/src/ros_hand_gesture_recognition/src/model/keypoint_classifier/keypoint_classifier.hdf5\n",
            "38/38 [==============================] - 0s 6ms/step - loss: 1.2353 - accuracy: 0.4726 - val_loss: 1.0226 - val_accuracy: 0.6313\n",
            "Epoch 6/1000\n",
            "33/38 [=========================>....] - ETA: 0s - loss: 1.1556 - accuracy: 0.5040\n",
            "Epoch 6: saving model to /home/trinhnc/catkin_ws/src/ros_hand_gesture_recognition/src/model/keypoint_classifier/keypoint_classifier.hdf5\n",
            "38/38 [==============================] - 0s 5ms/step - loss: 1.1519 - accuracy: 0.5020 - val_loss: 0.9243 - val_accuracy: 0.6538\n",
            "Epoch 7/1000\n",
            "35/38 [==========================>...] - ETA: 0s - loss: 1.0776 - accuracy: 0.5228\n",
            "Epoch 7: saving model to /home/trinhnc/catkin_ws/src/ros_hand_gesture_recognition/src/model/keypoint_classifier/keypoint_classifier.hdf5\n",
            "38/38 [==============================] - 0s 5ms/step - loss: 1.0749 - accuracy: 0.5247 - val_loss: 0.8481 - val_accuracy: 0.6581\n",
            "Epoch 8/1000\n",
            "20/38 [==============>...............] - ETA: 0s - loss: 1.0268 - accuracy: 0.5270\n",
            "Epoch 8: saving model to /home/trinhnc/catkin_ws/src/ros_hand_gesture_recognition/src/model/keypoint_classifier/keypoint_classifier.hdf5\n",
            "38/38 [==============================] - 0s 4ms/step - loss: 1.0130 - accuracy: 0.5369 - val_loss: 0.7946 - val_accuracy: 0.6644\n",
            "Epoch 9/1000\n",
            "22/38 [================>.............] - ETA: 0s - loss: 0.9935 - accuracy: 0.5504\n",
            "Epoch 9: saving model to /home/trinhnc/catkin_ws/src/ros_hand_gesture_recognition/src/model/keypoint_classifier/keypoint_classifier.hdf5\n",
            "38/38 [==============================] - 0s 6ms/step - loss: 0.9878 - accuracy: 0.5571 - val_loss: 0.7574 - val_accuracy: 0.6806\n",
            "Epoch 10/1000\n",
            "31/38 [=======================>......] - ETA: 0s - loss: 0.9370 - accuracy: 0.5938\n",
            "Epoch 10: saving model to /home/trinhnc/catkin_ws/src/ros_hand_gesture_recognition/src/model/keypoint_classifier/keypoint_classifier.hdf5\n",
            "38/38 [==============================] - 0s 7ms/step - loss: 0.9379 - accuracy: 0.5921 - val_loss: 0.7191 - val_accuracy: 0.7043\n",
            "Epoch 11/1000\n",
            "38/38 [==============================] - ETA: 0s - loss: 0.9125 - accuracy: 0.6091\n",
            "Epoch 11: saving model to /home/trinhnc/catkin_ws/src/ros_hand_gesture_recognition/src/model/keypoint_classifier/keypoint_classifier.hdf5\n",
            "38/38 [==============================] - 0s 5ms/step - loss: 0.9125 - accuracy: 0.6091 - val_loss: 0.6873 - val_accuracy: 0.7355\n",
            "Epoch 12/1000\n",
            "24/38 [=================>............] - ETA: 0s - loss: 0.8986 - accuracy: 0.6149\n",
            "Epoch 12: saving model to /home/trinhnc/catkin_ws/src/ros_hand_gesture_recognition/src/model/keypoint_classifier/keypoint_classifier.hdf5\n",
            "38/38 [==============================] - 0s 4ms/step - loss: 0.8903 - accuracy: 0.6195 - val_loss: 0.6653 - val_accuracy: 0.7723\n",
            "Epoch 13/1000\n",
            "21/38 [===============>..............] - ETA: 0s - loss: 0.8912 - accuracy: 0.6243\n",
            "Epoch 13: saving model to /home/trinhnc/catkin_ws/src/ros_hand_gesture_recognition/src/model/keypoint_classifier/keypoint_classifier.hdf5\n",
            "38/38 [==============================] - 0s 6ms/step - loss: 0.8790 - accuracy: 0.6364 - val_loss: 0.6427 - val_accuracy: 0.8104\n",
            "Epoch 14/1000\n",
            "36/38 [===========================>..] - ETA: 0s - loss: 0.8440 - accuracy: 0.6513\n",
            "Epoch 14: saving model to /home/trinhnc/catkin_ws/src/ros_hand_gesture_recognition/src/model/keypoint_classifier/keypoint_classifier.hdf5\n",
            "38/38 [==============================] - 0s 5ms/step - loss: 0.8441 - accuracy: 0.6497 - val_loss: 0.6133 - val_accuracy: 0.8210\n",
            "Epoch 15/1000\n",
            "37/38 [============================>.] - ETA: 0s - loss: 0.8304 - accuracy: 0.6522\n",
            "Epoch 15: saving model to /home/trinhnc/catkin_ws/src/ros_hand_gesture_recognition/src/model/keypoint_classifier/keypoint_classifier.hdf5\n",
            "38/38 [==============================] - 0s 5ms/step - loss: 0.8315 - accuracy: 0.6522 - val_loss: 0.5941 - val_accuracy: 0.8284\n",
            "Epoch 16/1000\n",
            "35/38 [==========================>...] - ETA: 0s - loss: 0.8103 - accuracy: 0.6714\n",
            "Epoch 16: saving model to /home/trinhnc/catkin_ws/src/ros_hand_gesture_recognition/src/model/keypoint_classifier/keypoint_classifier.hdf5\n",
            "38/38 [==============================] - 0s 7ms/step - loss: 0.8125 - accuracy: 0.6699 - val_loss: 0.5777 - val_accuracy: 0.8334\n",
            "Epoch 17/1000\n",
            "33/38 [=========================>....] - ETA: 0s - loss: 0.7970 - accuracy: 0.6839\n",
            "Epoch 17: saving model to /home/trinhnc/catkin_ws/src/ros_hand_gesture_recognition/src/model/keypoint_classifier/keypoint_classifier.hdf5\n",
            "38/38 [==============================] - 0s 6ms/step - loss: 0.7933 - accuracy: 0.6817 - val_loss: 0.5578 - val_accuracy: 0.8309\n",
            "Epoch 18/1000\n",
            "38/38 [==============================] - ETA: 0s - loss: 0.7714 - accuracy: 0.6844\n",
            "Epoch 18: saving model to /home/trinhnc/catkin_ws/src/ros_hand_gesture_recognition/src/model/keypoint_classifier/keypoint_classifier.hdf5\n",
            "38/38 [==============================] - 0s 5ms/step - loss: 0.7714 - accuracy: 0.6844 - val_loss: 0.5341 - val_accuracy: 0.8422\n",
            "Epoch 19/1000\n",
            "26/38 [===================>..........] - ETA: 0s - loss: 0.7581 - accuracy: 0.6788\n",
            "Epoch 19: saving model to /home/trinhnc/catkin_ws/src/ros_hand_gesture_recognition/src/model/keypoint_classifier/keypoint_classifier.hdf5\n",
            "38/38 [==============================] - 0s 6ms/step - loss: 0.7587 - accuracy: 0.6828 - val_loss: 0.5165 - val_accuracy: 0.8478\n",
            "Epoch 20/1000\n",
            "32/38 [========================>.....] - ETA: 0s - loss: 0.7528 - accuracy: 0.6890\n",
            "Epoch 20: saving model to /home/trinhnc/catkin_ws/src/ros_hand_gesture_recognition/src/model/keypoint_classifier/keypoint_classifier.hdf5\n",
            "38/38 [==============================] - 0s 6ms/step - loss: 0.7485 - accuracy: 0.6950 - val_loss: 0.4989 - val_accuracy: 0.8509\n",
            "Epoch 21/1000\n",
            "29/38 [=====================>........] - ETA: 0s - loss: 0.7281 - accuracy: 0.7101\n",
            "Epoch 21: saving model to /home/trinhnc/catkin_ws/src/ros_hand_gesture_recognition/src/model/keypoint_classifier/keypoint_classifier.hdf5\n",
            "38/38 [==============================] - 0s 6ms/step - loss: 0.7269 - accuracy: 0.7131 - val_loss: 0.4789 - val_accuracy: 0.8628\n",
            "Epoch 22/1000\n",
            "11/38 [=======>......................] - ETA: 0s - loss: 0.6731 - accuracy: 0.7450\n",
            "Epoch 22: saving model to /home/trinhnc/catkin_ws/src/ros_hand_gesture_recognition/src/model/keypoint_classifier/keypoint_classifier.hdf5\n",
            "38/38 [==============================] - 0s 5ms/step - loss: 0.6985 - accuracy: 0.7289 - val_loss: 0.4556 - val_accuracy: 0.8671\n",
            "Epoch 23/1000\n",
            "19/38 [==============>...............] - ETA: 0s - loss: 0.6889 - accuracy: 0.7319\n",
            "Epoch 23: saving model to /home/trinhnc/catkin_ws/src/ros_hand_gesture_recognition/src/model/keypoint_classifier/keypoint_classifier.hdf5\n",
            "38/38 [==============================] - 0s 5ms/step - loss: 0.6947 - accuracy: 0.7275 - val_loss: 0.4393 - val_accuracy: 0.8746\n",
            "Epoch 24/1000\n",
            "33/38 [=========================>....] - ETA: 0s - loss: 0.6809 - accuracy: 0.7339\n",
            "Epoch 24: saving model to /home/trinhnc/catkin_ws/src/ros_hand_gesture_recognition/src/model/keypoint_classifier/keypoint_classifier.hdf5\n",
            "38/38 [==============================] - 0s 5ms/step - loss: 0.6772 - accuracy: 0.7341 - val_loss: 0.4247 - val_accuracy: 0.8759\n",
            "Epoch 25/1000\n",
            "26/38 [===================>..........] - ETA: 0s - loss: 0.6599 - accuracy: 0.7422\n",
            "Epoch 25: saving model to /home/trinhnc/catkin_ws/src/ros_hand_gesture_recognition/src/model/keypoint_classifier/keypoint_classifier.hdf5\n",
            "38/38 [==============================] - 0s 4ms/step - loss: 0.6516 - accuracy: 0.7447 - val_loss: 0.4001 - val_accuracy: 0.8846\n",
            "Epoch 26/1000\n",
            "26/38 [===================>..........] - ETA: 0s - loss: 0.6633 - accuracy: 0.7329\n",
            "Epoch 26: saving model to /home/trinhnc/catkin_ws/src/ros_hand_gesture_recognition/src/model/keypoint_classifier/keypoint_classifier.hdf5\n",
            "38/38 [==============================] - 0s 5ms/step - loss: 0.6646 - accuracy: 0.7343 - val_loss: 0.3933 - val_accuracy: 0.8865\n",
            "Epoch 27/1000\n",
            "22/38 [================>.............] - ETA: 0s - loss: 0.6262 - accuracy: 0.7571\n",
            "Epoch 27: saving model to /home/trinhnc/catkin_ws/src/ros_hand_gesture_recognition/src/model/keypoint_classifier/keypoint_classifier.hdf5\n",
            "38/38 [==============================] - 0s 5ms/step - loss: 0.6365 - accuracy: 0.7560 - val_loss: 0.3759 - val_accuracy: 0.8964\n",
            "Epoch 28/1000\n",
            "27/38 [====================>.........] - ETA: 0s - loss: 0.6291 - accuracy: 0.7581\n",
            "Epoch 28: saving model to /home/trinhnc/catkin_ws/src/ros_hand_gesture_recognition/src/model/keypoint_classifier/keypoint_classifier.hdf5\n",
            "38/38 [==============================] - 0s 5ms/step - loss: 0.6273 - accuracy: 0.7574 - val_loss: 0.3596 - val_accuracy: 0.8902\n",
            "Epoch 29/1000\n",
            "35/38 [==========================>...] - ETA: 0s - loss: 0.6232 - accuracy: 0.7538\n",
            "Epoch 29: saving model to /home/trinhnc/catkin_ws/src/ros_hand_gesture_recognition/src/model/keypoint_classifier/keypoint_classifier.hdf5\n",
            "38/38 [==============================] - 0s 5ms/step - loss: 0.6245 - accuracy: 0.7522 - val_loss: 0.3485 - val_accuracy: 0.9239\n",
            "Epoch 30/1000\n",
            "35/38 [==========================>...] - ETA: 0s - loss: 0.6080 - accuracy: 0.7612\n",
            "Epoch 30: saving model to /home/trinhnc/catkin_ws/src/ros_hand_gesture_recognition/src/model/keypoint_classifier/keypoint_classifier.hdf5\n",
            "38/38 [==============================] - 0s 6ms/step - loss: 0.6106 - accuracy: 0.7608 - val_loss: 0.3338 - val_accuracy: 0.9083\n",
            "Epoch 31/1000\n",
            "27/38 [====================>.........] - ETA: 0s - loss: 0.5848 - accuracy: 0.7758\n",
            "Epoch 31: saving model to /home/trinhnc/catkin_ws/src/ros_hand_gesture_recognition/src/model/keypoint_classifier/keypoint_classifier.hdf5\n",
            "38/38 [==============================] - 0s 4ms/step - loss: 0.5851 - accuracy: 0.7772 - val_loss: 0.3201 - val_accuracy: 0.9308\n",
            "Epoch 32/1000\n",
            "21/38 [===============>..............] - ETA: 0s - loss: 0.6171 - accuracy: 0.7634\n",
            "Epoch 32: saving model to /home/trinhnc/catkin_ws/src/ros_hand_gesture_recognition/src/model/keypoint_classifier/keypoint_classifier.hdf5\n",
            "38/38 [==============================] - 0s 6ms/step - loss: 0.6098 - accuracy: 0.7631 - val_loss: 0.3138 - val_accuracy: 0.9370\n",
            "Epoch 33/1000\n",
            "31/38 [=======================>......] - ETA: 0s - loss: 0.5721 - accuracy: 0.7752\n",
            "Epoch 33: saving model to /home/trinhnc/catkin_ws/src/ros_hand_gesture_recognition/src/model/keypoint_classifier/keypoint_classifier.hdf5\n",
            "38/38 [==============================] - 0s 6ms/step - loss: 0.5788 - accuracy: 0.7743 - val_loss: 0.3108 - val_accuracy: 0.9314\n",
            "Epoch 34/1000\n",
            "21/38 [===============>..............] - ETA: 0s - loss: 0.5812 - accuracy: 0.7790\n",
            "Epoch 34: saving model to /home/trinhnc/catkin_ws/src/ros_hand_gesture_recognition/src/model/keypoint_classifier/keypoint_classifier.hdf5\n",
            "38/38 [==============================] - 0s 5ms/step - loss: 0.5717 - accuracy: 0.7876 - val_loss: 0.2888 - val_accuracy: 0.9370\n",
            "Epoch 35/1000\n",
            "25/38 [==================>...........] - ETA: 0s - loss: 0.5499 - accuracy: 0.7997\n",
            "Epoch 35: saving model to /home/trinhnc/catkin_ws/src/ros_hand_gesture_recognition/src/model/keypoint_classifier/keypoint_classifier.hdf5\n",
            "38/38 [==============================] - 0s 4ms/step - loss: 0.5510 - accuracy: 0.7951 - val_loss: 0.2810 - val_accuracy: 0.9389\n",
            "Epoch 36/1000\n",
            "38/38 [==============================] - ETA: 0s - loss: 0.5511 - accuracy: 0.7851\n",
            "Epoch 36: saving model to /home/trinhnc/catkin_ws/src/ros_hand_gesture_recognition/src/model/keypoint_classifier/keypoint_classifier.hdf5\n",
            "38/38 [==============================] - 0s 5ms/step - loss: 0.5511 - accuracy: 0.7851 - val_loss: 0.2756 - val_accuracy: 0.9333\n",
            "Epoch 37/1000\n",
            "30/38 [======================>.......] - ETA: 0s - loss: 0.5606 - accuracy: 0.7789\n",
            "Epoch 37: saving model to /home/trinhnc/catkin_ws/src/ros_hand_gesture_recognition/src/model/keypoint_classifier/keypoint_classifier.hdf5\n",
            "38/38 [==============================] - 0s 5ms/step - loss: 0.5582 - accuracy: 0.7814 - val_loss: 0.2744 - val_accuracy: 0.9357\n",
            "Epoch 38/1000\n",
            "15/38 [==========>...................] - ETA: 0s - loss: 0.5884 - accuracy: 0.7766\n",
            "Epoch 38: saving model to /home/trinhnc/catkin_ws/src/ros_hand_gesture_recognition/src/model/keypoint_classifier/keypoint_classifier.hdf5\n",
            "38/38 [==============================] - 0s 4ms/step - loss: 0.5661 - accuracy: 0.7832 - val_loss: 0.2708 - val_accuracy: 0.9357\n",
            "Epoch 39/1000\n",
            "33/38 [=========================>....] - ETA: 0s - loss: 0.5610 - accuracy: 0.7895\n",
            "Epoch 39: saving model to /home/trinhnc/catkin_ws/src/ros_hand_gesture_recognition/src/model/keypoint_classifier/keypoint_classifier.hdf5\n",
            "38/38 [==============================] - 0s 5ms/step - loss: 0.5617 - accuracy: 0.7876 - val_loss: 0.2643 - val_accuracy: 0.9370\n",
            "Epoch 40/1000\n",
            "24/38 [=================>............] - ETA: 0s - loss: 0.5406 - accuracy: 0.7943\n",
            "Epoch 40: saving model to /home/trinhnc/catkin_ws/src/ros_hand_gesture_recognition/src/model/keypoint_classifier/keypoint_classifier.hdf5\n",
            "38/38 [==============================] - 0s 4ms/step - loss: 0.5394 - accuracy: 0.7953 - val_loss: 0.2496 - val_accuracy: 0.9364\n",
            "Epoch 41/1000\n",
            "38/38 [==============================] - ETA: 0s - loss: 0.5237 - accuracy: 0.8067\n",
            "Epoch 41: saving model to /home/trinhnc/catkin_ws/src/ros_hand_gesture_recognition/src/model/keypoint_classifier/keypoint_classifier.hdf5\n",
            "38/38 [==============================] - 0s 5ms/step - loss: 0.5237 - accuracy: 0.8067 - val_loss: 0.2481 - val_accuracy: 0.9389\n",
            "Epoch 42/1000\n",
            "33/38 [=========================>....] - ETA: 0s - loss: 0.5366 - accuracy: 0.8007\n",
            "Epoch 42: saving model to /home/trinhnc/catkin_ws/src/ros_hand_gesture_recognition/src/model/keypoint_classifier/keypoint_classifier.hdf5\n",
            "38/38 [==============================] - 0s 6ms/step - loss: 0.5347 - accuracy: 0.8011 - val_loss: 0.2402 - val_accuracy: 0.9432\n",
            "Epoch 43/1000\n",
            "33/38 [=========================>....] - ETA: 0s - loss: 0.5280 - accuracy: 0.8004\n",
            "Epoch 43: saving model to /home/trinhnc/catkin_ws/src/ros_hand_gesture_recognition/src/model/keypoint_classifier/keypoint_classifier.hdf5\n",
            "38/38 [==============================] - 0s 5ms/step - loss: 0.5229 - accuracy: 0.8020 - val_loss: 0.2313 - val_accuracy: 0.9451\n",
            "Epoch 44/1000\n",
            "34/38 [=========================>....] - ETA: 0s - loss: 0.5354 - accuracy: 0.7953\n",
            "Epoch 44: saving model to /home/trinhnc/catkin_ws/src/ros_hand_gesture_recognition/src/model/keypoint_classifier/keypoint_classifier.hdf5\n",
            "38/38 [==============================] - 0s 5ms/step - loss: 0.5360 - accuracy: 0.7953 - val_loss: 0.2281 - val_accuracy: 0.9451\n",
            "Epoch 45/1000\n",
            "24/38 [=================>............] - ETA: 0s - loss: 0.5123 - accuracy: 0.8148\n",
            "Epoch 45: saving model to /home/trinhnc/catkin_ws/src/ros_hand_gesture_recognition/src/model/keypoint_classifier/keypoint_classifier.hdf5\n",
            "38/38 [==============================] - 0s 4ms/step - loss: 0.5102 - accuracy: 0.8119 - val_loss: 0.2271 - val_accuracy: 0.9445\n",
            "Epoch 46/1000\n",
            "25/38 [==================>...........] - ETA: 0s - loss: 0.5222 - accuracy: 0.8134\n",
            "Epoch 46: saving model to /home/trinhnc/catkin_ws/src/ros_hand_gesture_recognition/src/model/keypoint_classifier/keypoint_classifier.hdf5\n",
            "38/38 [==============================] - 0s 4ms/step - loss: 0.5120 - accuracy: 0.8126 - val_loss: 0.2245 - val_accuracy: 0.9451\n",
            "Epoch 47/1000\n",
            "37/38 [============================>.] - ETA: 0s - loss: 0.5267 - accuracy: 0.8005\n",
            "Epoch 47: saving model to /home/trinhnc/catkin_ws/src/ros_hand_gesture_recognition/src/model/keypoint_classifier/keypoint_classifier.hdf5\n",
            "38/38 [==============================] - 0s 5ms/step - loss: 0.5251 - accuracy: 0.8009 - val_loss: 0.2177 - val_accuracy: 0.9557\n",
            "Epoch 48/1000\n",
            "21/38 [===============>..............] - ETA: 0s - loss: 0.5176 - accuracy: 0.8054\n",
            "Epoch 48: saving model to /home/trinhnc/catkin_ws/src/ros_hand_gesture_recognition/src/model/keypoint_classifier/keypoint_classifier.hdf5\n",
            "38/38 [==============================] - 0s 5ms/step - loss: 0.5056 - accuracy: 0.8063 - val_loss: 0.2252 - val_accuracy: 0.9389\n",
            "Epoch 49/1000\n",
            "22/38 [================>.............] - ETA: 0s - loss: 0.5029 - accuracy: 0.8022\n",
            "Epoch 49: saving model to /home/trinhnc/catkin_ws/src/ros_hand_gesture_recognition/src/model/keypoint_classifier/keypoint_classifier.hdf5\n",
            "38/38 [==============================] - 0s 8ms/step - loss: 0.5120 - accuracy: 0.8017 - val_loss: 0.2166 - val_accuracy: 0.9513\n",
            "Epoch 50/1000\n",
            "28/38 [=====================>........] - ETA: 0s - loss: 0.4908 - accuracy: 0.8206\n",
            "Epoch 50: saving model to /home/trinhnc/catkin_ws/src/ros_hand_gesture_recognition/src/model/keypoint_classifier/keypoint_classifier.hdf5\n",
            "38/38 [==============================] - 0s 6ms/step - loss: 0.4924 - accuracy: 0.8209 - val_loss: 0.2178 - val_accuracy: 0.9426\n",
            "Epoch 51/1000\n",
            "28/38 [=====================>........] - ETA: 0s - loss: 0.4833 - accuracy: 0.8259\n",
            "Epoch 51: saving model to /home/trinhnc/catkin_ws/src/ros_hand_gesture_recognition/src/model/keypoint_classifier/keypoint_classifier.hdf5\n",
            "38/38 [==============================] - 0s 6ms/step - loss: 0.4945 - accuracy: 0.8207 - val_loss: 0.2130 - val_accuracy: 0.9488\n",
            "Epoch 52/1000\n",
            "21/38 [===============>..............] - ETA: 0s - loss: 0.4933 - accuracy: 0.8129\n",
            "Epoch 52: saving model to /home/trinhnc/catkin_ws/src/ros_hand_gesture_recognition/src/model/keypoint_classifier/keypoint_classifier.hdf5\n",
            "38/38 [==============================] - 0s 5ms/step - loss: 0.4920 - accuracy: 0.8182 - val_loss: 0.2095 - val_accuracy: 0.9488\n",
            "Epoch 53/1000\n",
            "34/38 [=========================>....] - ETA: 0s - loss: 0.4965 - accuracy: 0.8095\n",
            "Epoch 53: saving model to /home/trinhnc/catkin_ws/src/ros_hand_gesture_recognition/src/model/keypoint_classifier/keypoint_classifier.hdf5\n",
            "38/38 [==============================] - 0s 6ms/step - loss: 0.4947 - accuracy: 0.8115 - val_loss: 0.2060 - val_accuracy: 0.9470\n",
            "Epoch 54/1000\n",
            "31/38 [=======================>......] - ETA: 0s - loss: 0.4989 - accuracy: 0.8130\n",
            "Epoch 54: saving model to /home/trinhnc/catkin_ws/src/ros_hand_gesture_recognition/src/model/keypoint_classifier/keypoint_classifier.hdf5\n",
            "38/38 [==============================] - 0s 6ms/step - loss: 0.4908 - accuracy: 0.8167 - val_loss: 0.2067 - val_accuracy: 0.9420\n",
            "Epoch 55/1000\n",
            "32/38 [========================>.....] - ETA: 0s - loss: 0.4860 - accuracy: 0.8159\n",
            "Epoch 55: saving model to /home/trinhnc/catkin_ws/src/ros_hand_gesture_recognition/src/model/keypoint_classifier/keypoint_classifier.hdf5\n",
            "38/38 [==============================] - 0s 5ms/step - loss: 0.4880 - accuracy: 0.8136 - val_loss: 0.2049 - val_accuracy: 0.9538\n",
            "Epoch 56/1000\n",
            "23/38 [=================>............] - ETA: 0s - loss: 0.5031 - accuracy: 0.8207\n",
            "Epoch 56: saving model to /home/trinhnc/catkin_ws/src/ros_hand_gesture_recognition/src/model/keypoint_classifier/keypoint_classifier.hdf5\n",
            "38/38 [==============================] - 0s 6ms/step - loss: 0.4966 - accuracy: 0.8190 - val_loss: 0.2036 - val_accuracy: 0.9482\n",
            "Epoch 57/1000\n",
            "28/38 [=====================>........] - ETA: 0s - loss: 0.4849 - accuracy: 0.8234\n",
            "Epoch 57: saving model to /home/trinhnc/catkin_ws/src/ros_hand_gesture_recognition/src/model/keypoint_classifier/keypoint_classifier.hdf5\n",
            "38/38 [==============================] - 0s 6ms/step - loss: 0.4887 - accuracy: 0.8223 - val_loss: 0.1986 - val_accuracy: 0.9563\n",
            "Epoch 58/1000\n",
            "22/38 [================>.............] - ETA: 0s - loss: 0.5040 - accuracy: 0.8171\n",
            "Epoch 58: saving model to /home/trinhnc/catkin_ws/src/ros_hand_gesture_recognition/src/model/keypoint_classifier/keypoint_classifier.hdf5\n",
            "38/38 [==============================] - 0s 5ms/step - loss: 0.5010 - accuracy: 0.8161 - val_loss: 0.2043 - val_accuracy: 0.9538\n",
            "Epoch 59/1000\n",
            "38/38 [==============================] - ETA: 0s - loss: 0.4932 - accuracy: 0.8182\n",
            "Epoch 59: saving model to /home/trinhnc/catkin_ws/src/ros_hand_gesture_recognition/src/model/keypoint_classifier/keypoint_classifier.hdf5\n",
            "38/38 [==============================] - 0s 5ms/step - loss: 0.4932 - accuracy: 0.8182 - val_loss: 0.1995 - val_accuracy: 0.9476\n",
            "Epoch 60/1000\n",
            "25/38 [==================>...........] - ETA: 0s - loss: 0.5008 - accuracy: 0.8109\n",
            "Epoch 60: saving model to /home/trinhnc/catkin_ws/src/ros_hand_gesture_recognition/src/model/keypoint_classifier/keypoint_classifier.hdf5\n",
            "38/38 [==============================] - 0s 4ms/step - loss: 0.4948 - accuracy: 0.8103 - val_loss: 0.2018 - val_accuracy: 0.9488\n",
            "Epoch 61/1000\n",
            "23/38 [=================>............] - ETA: 0s - loss: 0.4781 - accuracy: 0.8207\n",
            "Epoch 61: saving model to /home/trinhnc/catkin_ws/src/ros_hand_gesture_recognition/src/model/keypoint_classifier/keypoint_classifier.hdf5\n",
            "38/38 [==============================] - 0s 6ms/step - loss: 0.4723 - accuracy: 0.8236 - val_loss: 0.1983 - val_accuracy: 0.9538\n",
            "Epoch 62/1000\n",
            "38/38 [==============================] - ETA: 0s - loss: 0.4731 - accuracy: 0.8282\n",
            "Epoch 62: saving model to /home/trinhnc/catkin_ws/src/ros_hand_gesture_recognition/src/model/keypoint_classifier/keypoint_classifier.hdf5\n",
            "38/38 [==============================] - 0s 5ms/step - loss: 0.4731 - accuracy: 0.8282 - val_loss: 0.1947 - val_accuracy: 0.9507\n",
            "Epoch 63/1000\n",
            "24/38 [=================>............] - ETA: 0s - loss: 0.4951 - accuracy: 0.8226\n",
            "Epoch 63: saving model to /home/trinhnc/catkin_ws/src/ros_hand_gesture_recognition/src/model/keypoint_classifier/keypoint_classifier.hdf5\n",
            "38/38 [==============================] - 0s 5ms/step - loss: 0.4866 - accuracy: 0.8238 - val_loss: 0.1922 - val_accuracy: 0.9526\n",
            "Epoch 64/1000\n",
            "19/38 [==============>...............] - ETA: 0s - loss: 0.4643 - accuracy: 0.8207\n",
            "Epoch 64: saving model to /home/trinhnc/catkin_ws/src/ros_hand_gesture_recognition/src/model/keypoint_classifier/keypoint_classifier.hdf5\n",
            "38/38 [==============================] - 0s 4ms/step - loss: 0.4716 - accuracy: 0.8209 - val_loss: 0.1925 - val_accuracy: 0.9557\n",
            "Epoch 65/1000\n",
            "32/38 [========================>.....] - ETA: 0s - loss: 0.4770 - accuracy: 0.8252\n",
            "Epoch 65: saving model to /home/trinhnc/catkin_ws/src/ros_hand_gesture_recognition/src/model/keypoint_classifier/keypoint_classifier.hdf5\n",
            "38/38 [==============================] - 0s 5ms/step - loss: 0.4771 - accuracy: 0.8257 - val_loss: 0.1915 - val_accuracy: 0.9532\n",
            "Epoch 66/1000\n",
            "25/38 [==================>...........] - ETA: 0s - loss: 0.4551 - accuracy: 0.8369\n",
            "Epoch 66: saving model to /home/trinhnc/catkin_ws/src/ros_hand_gesture_recognition/src/model/keypoint_classifier/keypoint_classifier.hdf5\n",
            "38/38 [==============================] - 0s 4ms/step - loss: 0.4680 - accuracy: 0.8265 - val_loss: 0.1892 - val_accuracy: 0.9507\n",
            "Epoch 67/1000\n",
            "21/38 [===============>..............] - ETA: 0s - loss: 0.4778 - accuracy: 0.8218\n",
            "Epoch 67: saving model to /home/trinhnc/catkin_ws/src/ros_hand_gesture_recognition/src/model/keypoint_classifier/keypoint_classifier.hdf5\n",
            "38/38 [==============================] - 0s 4ms/step - loss: 0.4688 - accuracy: 0.8267 - val_loss: 0.1903 - val_accuracy: 0.9495\n",
            "Epoch 68/1000\n",
            "18/38 [=============>................] - ETA: 0s - loss: 0.4714 - accuracy: 0.8351\n",
            "Epoch 68: saving model to /home/trinhnc/catkin_ws/src/ros_hand_gesture_recognition/src/model/keypoint_classifier/keypoint_classifier.hdf5\n",
            "38/38 [==============================] - 0s 5ms/step - loss: 0.4746 - accuracy: 0.8319 - val_loss: 0.1845 - val_accuracy: 0.9607\n",
            "Epoch 69/1000\n",
            "30/38 [======================>.......] - ETA: 0s - loss: 0.4511 - accuracy: 0.8313\n",
            "Epoch 69: saving model to /home/trinhnc/catkin_ws/src/ros_hand_gesture_recognition/src/model/keypoint_classifier/keypoint_classifier.hdf5\n",
            "38/38 [==============================] - 0s 6ms/step - loss: 0.4601 - accuracy: 0.8298 - val_loss: 0.1897 - val_accuracy: 0.9557\n",
            "Epoch 70/1000\n",
            "38/38 [==============================] - ETA: 0s - loss: 0.4676 - accuracy: 0.8311\n",
            "Epoch 70: saving model to /home/trinhnc/catkin_ws/src/ros_hand_gesture_recognition/src/model/keypoint_classifier/keypoint_classifier.hdf5\n",
            "38/38 [==============================] - 0s 5ms/step - loss: 0.4676 - accuracy: 0.8311 - val_loss: 0.1894 - val_accuracy: 0.9513\n",
            "Epoch 71/1000\n",
            "17/38 [============>.................] - ETA: 0s - loss: 0.4363 - accuracy: 0.8447\n",
            "Epoch 71: saving model to /home/trinhnc/catkin_ws/src/ros_hand_gesture_recognition/src/model/keypoint_classifier/keypoint_classifier.hdf5\n",
            "38/38 [==============================] - 0s 4ms/step - loss: 0.4510 - accuracy: 0.8398 - val_loss: 0.1804 - val_accuracy: 0.9570\n",
            "Epoch 72/1000\n",
            "22/38 [================>.............] - ETA: 0s - loss: 0.4799 - accuracy: 0.8267\n",
            "Epoch 72: saving model to /home/trinhnc/catkin_ws/src/ros_hand_gesture_recognition/src/model/keypoint_classifier/keypoint_classifier.hdf5\n",
            "38/38 [==============================] - 0s 7ms/step - loss: 0.4742 - accuracy: 0.8269 - val_loss: 0.1779 - val_accuracy: 0.9601\n",
            "Epoch 73/1000\n",
            "17/38 [============>.................] - ETA: 0s - loss: 0.4658 - accuracy: 0.8203\n",
            "Epoch 73: saving model to /home/trinhnc/catkin_ws/src/ros_hand_gesture_recognition/src/model/keypoint_classifier/keypoint_classifier.hdf5\n",
            "38/38 [==============================] - 0s 4ms/step - loss: 0.4531 - accuracy: 0.8305 - val_loss: 0.1792 - val_accuracy: 0.9563\n",
            "Epoch 74/1000\n",
            "20/38 [==============>...............] - ETA: 0s - loss: 0.4582 - accuracy: 0.8383\n",
            "Epoch 74: saving model to /home/trinhnc/catkin_ws/src/ros_hand_gesture_recognition/src/model/keypoint_classifier/keypoint_classifier.hdf5\n",
            "38/38 [==============================] - 0s 5ms/step - loss: 0.4480 - accuracy: 0.8386 - val_loss: 0.1802 - val_accuracy: 0.9582\n",
            "Epoch 75/1000\n",
            "23/38 [=================>............] - ETA: 0s - loss: 0.4818 - accuracy: 0.8200\n",
            "Epoch 75: saving model to /home/trinhnc/catkin_ws/src/ros_hand_gesture_recognition/src/model/keypoint_classifier/keypoint_classifier.hdf5\n",
            "38/38 [==============================] - 0s 4ms/step - loss: 0.4783 - accuracy: 0.8234 - val_loss: 0.1786 - val_accuracy: 0.9595\n",
            "Epoch 76/1000\n",
            "32/38 [========================>.....] - ETA: 0s - loss: 0.4680 - accuracy: 0.8264\n",
            "Epoch 76: saving model to /home/trinhnc/catkin_ws/src/ros_hand_gesture_recognition/src/model/keypoint_classifier/keypoint_classifier.hdf5\n",
            "38/38 [==============================] - 0s 5ms/step - loss: 0.4648 - accuracy: 0.8286 - val_loss: 0.1787 - val_accuracy: 0.9557\n",
            "Epoch 77/1000\n",
            "27/38 [====================>.........] - ETA: 0s - loss: 0.4735 - accuracy: 0.8284\n",
            "Epoch 77: saving model to /home/trinhnc/catkin_ws/src/ros_hand_gesture_recognition/src/model/keypoint_classifier/keypoint_classifier.hdf5\n",
            "38/38 [==============================] - 0s 5ms/step - loss: 0.4693 - accuracy: 0.8298 - val_loss: 0.1776 - val_accuracy: 0.9595\n",
            "Epoch 78/1000\n",
            "31/38 [=======================>......] - ETA: 0s - loss: 0.4539 - accuracy: 0.8324\n",
            "Epoch 78: saving model to /home/trinhnc/catkin_ws/src/ros_hand_gesture_recognition/src/model/keypoint_classifier/keypoint_classifier.hdf5\n",
            "38/38 [==============================] - 0s 6ms/step - loss: 0.4460 - accuracy: 0.8363 - val_loss: 0.1806 - val_accuracy: 0.9557\n",
            "Epoch 79/1000\n",
            "31/38 [=======================>......] - ETA: 0s - loss: 0.4434 - accuracy: 0.8385\n",
            "Epoch 79: saving model to /home/trinhnc/catkin_ws/src/ros_hand_gesture_recognition/src/model/keypoint_classifier/keypoint_classifier.hdf5\n",
            "38/38 [==============================] - 0s 4ms/step - loss: 0.4446 - accuracy: 0.8361 - val_loss: 0.1743 - val_accuracy: 0.9545\n",
            "Epoch 80/1000\n",
            "23/38 [=================>............] - ETA: 0s - loss: 0.4541 - accuracy: 0.8373\n",
            "Epoch 80: saving model to /home/trinhnc/catkin_ws/src/ros_hand_gesture_recognition/src/model/keypoint_classifier/keypoint_classifier.hdf5\n",
            "38/38 [==============================] - 0s 6ms/step - loss: 0.4578 - accuracy: 0.8359 - val_loss: 0.1718 - val_accuracy: 0.9582\n",
            "Epoch 81/1000\n",
            "38/38 [==============================] - ETA: 0s - loss: 0.4568 - accuracy: 0.8319\n",
            "Epoch 81: saving model to /home/trinhnc/catkin_ws/src/ros_hand_gesture_recognition/src/model/keypoint_classifier/keypoint_classifier.hdf5\n",
            "38/38 [==============================] - 0s 5ms/step - loss: 0.4568 - accuracy: 0.8319 - val_loss: 0.1733 - val_accuracy: 0.9632\n",
            "Epoch 82/1000\n",
            "22/38 [================>.............] - ETA: 0s - loss: 0.4425 - accuracy: 0.8366\n",
            "Epoch 82: saving model to /home/trinhnc/catkin_ws/src/ros_hand_gesture_recognition/src/model/keypoint_classifier/keypoint_classifier.hdf5\n",
            "38/38 [==============================] - 0s 5ms/step - loss: 0.4465 - accuracy: 0.8344 - val_loss: 0.1725 - val_accuracy: 0.9607\n",
            "Epoch 83/1000\n",
            "20/38 [==============>...............] - ETA: 0s - loss: 0.4295 - accuracy: 0.8438\n",
            "Epoch 83: saving model to /home/trinhnc/catkin_ws/src/ros_hand_gesture_recognition/src/model/keypoint_classifier/keypoint_classifier.hdf5\n",
            "38/38 [==============================] - 0s 5ms/step - loss: 0.4284 - accuracy: 0.8456 - val_loss: 0.1753 - val_accuracy: 0.9570\n",
            "Epoch 84/1000\n",
            "20/38 [==============>...............] - ETA: 0s - loss: 0.4467 - accuracy: 0.8289\n",
            "Epoch 84: saving model to /home/trinhnc/catkin_ws/src/ros_hand_gesture_recognition/src/model/keypoint_classifier/keypoint_classifier.hdf5\n",
            "38/38 [==============================] - 0s 5ms/step - loss: 0.4326 - accuracy: 0.8371 - val_loss: 0.1698 - val_accuracy: 0.9551\n",
            "Epoch 85/1000\n",
            "27/38 [====================>.........] - ETA: 0s - loss: 0.4567 - accuracy: 0.8333\n",
            "Epoch 85: saving model to /home/trinhnc/catkin_ws/src/ros_hand_gesture_recognition/src/model/keypoint_classifier/keypoint_classifier.hdf5\n",
            "38/38 [==============================] - 0s 6ms/step - loss: 0.4591 - accuracy: 0.8342 - val_loss: 0.1753 - val_accuracy: 0.9582\n",
            "Epoch 86/1000\n",
            "30/38 [======================>.......] - ETA: 0s - loss: 0.4413 - accuracy: 0.8427\n",
            "Epoch 86: saving model to /home/trinhnc/catkin_ws/src/ros_hand_gesture_recognition/src/model/keypoint_classifier/keypoint_classifier.hdf5\n",
            "38/38 [==============================] - 0s 7ms/step - loss: 0.4449 - accuracy: 0.8421 - val_loss: 0.1689 - val_accuracy: 0.9613\n",
            "Epoch 87/1000\n",
            "33/38 [=========================>....] - ETA: 0s - loss: 0.4413 - accuracy: 0.8348\n",
            "Epoch 87: saving model to /home/trinhnc/catkin_ws/src/ros_hand_gesture_recognition/src/model/keypoint_classifier/keypoint_classifier.hdf5\n",
            "38/38 [==============================] - 0s 8ms/step - loss: 0.4439 - accuracy: 0.8330 - val_loss: 0.1740 - val_accuracy: 0.9588\n",
            "Epoch 88/1000\n",
            "28/38 [=====================>........] - ETA: 0s - loss: 0.4418 - accuracy: 0.8390\n",
            "Epoch 88: saving model to /home/trinhnc/catkin_ws/src/ros_hand_gesture_recognition/src/model/keypoint_classifier/keypoint_classifier.hdf5\n",
            "38/38 [==============================] - 0s 5ms/step - loss: 0.4521 - accuracy: 0.8327 - val_loss: 0.1680 - val_accuracy: 0.9644\n",
            "Epoch 89/1000\n",
            "35/38 [==========================>...] - ETA: 0s - loss: 0.4436 - accuracy: 0.8366\n",
            "Epoch 89: saving model to /home/trinhnc/catkin_ws/src/ros_hand_gesture_recognition/src/model/keypoint_classifier/keypoint_classifier.hdf5\n",
            "38/38 [==============================] - 0s 7ms/step - loss: 0.4477 - accuracy: 0.8359 - val_loss: 0.1675 - val_accuracy: 0.9638\n",
            "Epoch 90/1000\n",
            "25/38 [==================>...........] - ETA: 0s - loss: 0.4521 - accuracy: 0.8316\n",
            "Epoch 90: saving model to /home/trinhnc/catkin_ws/src/ros_hand_gesture_recognition/src/model/keypoint_classifier/keypoint_classifier.hdf5\n",
            "38/38 [==============================] - 0s 7ms/step - loss: 0.4554 - accuracy: 0.8327 - val_loss: 0.1758 - val_accuracy: 0.9613\n",
            "Epoch 91/1000\n",
            "32/38 [========================>.....] - ETA: 0s - loss: 0.4390 - accuracy: 0.8423\n",
            "Epoch 91: saving model to /home/trinhnc/catkin_ws/src/ros_hand_gesture_recognition/src/model/keypoint_classifier/keypoint_classifier.hdf5\n",
            "38/38 [==============================] - 0s 7ms/step - loss: 0.4390 - accuracy: 0.8421 - val_loss: 0.1691 - val_accuracy: 0.9601\n",
            "Epoch 92/1000\n",
            "35/38 [==========================>...] - ETA: 0s - loss: 0.4349 - accuracy: 0.8406\n",
            "Epoch 92: saving model to /home/trinhnc/catkin_ws/src/ros_hand_gesture_recognition/src/model/keypoint_classifier/keypoint_classifier.hdf5\n",
            "38/38 [==============================] - 0s 5ms/step - loss: 0.4349 - accuracy: 0.8419 - val_loss: 0.1703 - val_accuracy: 0.9582\n",
            "Epoch 93/1000\n",
            "24/38 [=================>............] - ETA: 0s - loss: 0.4456 - accuracy: 0.8359\n",
            "Epoch 93: saving model to /home/trinhnc/catkin_ws/src/ros_hand_gesture_recognition/src/model/keypoint_classifier/keypoint_classifier.hdf5\n",
            "38/38 [==============================] - 0s 4ms/step - loss: 0.4300 - accuracy: 0.8415 - val_loss: 0.1646 - val_accuracy: 0.9638\n",
            "Epoch 94/1000\n",
            "19/38 [==============>...............] - ETA: 0s - loss: 0.4503 - accuracy: 0.8351\n",
            "Epoch 94: saving model to /home/trinhnc/catkin_ws/src/ros_hand_gesture_recognition/src/model/keypoint_classifier/keypoint_classifier.hdf5\n",
            "38/38 [==============================] - 0s 4ms/step - loss: 0.4273 - accuracy: 0.8427 - val_loss: 0.1674 - val_accuracy: 0.9582\n",
            "Epoch 95/1000\n",
            "34/38 [=========================>....] - ETA: 0s - loss: 0.4169 - accuracy: 0.8447\n",
            "Epoch 95: saving model to /home/trinhnc/catkin_ws/src/ros_hand_gesture_recognition/src/model/keypoint_classifier/keypoint_classifier.hdf5\n",
            "38/38 [==============================] - 0s 5ms/step - loss: 0.4154 - accuracy: 0.8448 - val_loss: 0.1558 - val_accuracy: 0.9657\n",
            "Epoch 96/1000\n",
            "37/38 [============================>.] - ETA: 0s - loss: 0.4432 - accuracy: 0.8391\n",
            "Epoch 96: saving model to /home/trinhnc/catkin_ws/src/ros_hand_gesture_recognition/src/model/keypoint_classifier/keypoint_classifier.hdf5\n",
            "38/38 [==============================] - 0s 7ms/step - loss: 0.4441 - accuracy: 0.8388 - val_loss: 0.1657 - val_accuracy: 0.9613\n",
            "Epoch 97/1000\n",
            "34/38 [=========================>....] - ETA: 0s - loss: 0.4296 - accuracy: 0.8454\n",
            "Epoch 97: saving model to /home/trinhnc/catkin_ws/src/ros_hand_gesture_recognition/src/model/keypoint_classifier/keypoint_classifier.hdf5\n",
            "38/38 [==============================] - 0s 5ms/step - loss: 0.4331 - accuracy: 0.8415 - val_loss: 0.1650 - val_accuracy: 0.9638\n",
            "Epoch 98/1000\n",
            "33/38 [=========================>....] - ETA: 0s - loss: 0.4316 - accuracy: 0.8471\n",
            "Epoch 98: saving model to /home/trinhnc/catkin_ws/src/ros_hand_gesture_recognition/src/model/keypoint_classifier/keypoint_classifier.hdf5\n",
            "38/38 [==============================] - 0s 7ms/step - loss: 0.4383 - accuracy: 0.8434 - val_loss: 0.1665 - val_accuracy: 0.9601\n",
            "Epoch 99/1000\n",
            "31/38 [=======================>......] - ETA: 0s - loss: 0.4150 - accuracy: 0.8443\n",
            "Epoch 99: saving model to /home/trinhnc/catkin_ws/src/ros_hand_gesture_recognition/src/model/keypoint_classifier/keypoint_classifier.hdf5\n",
            "38/38 [==============================] - 0s 5ms/step - loss: 0.4308 - accuracy: 0.8406 - val_loss: 0.1654 - val_accuracy: 0.9619\n",
            "Epoch 100/1000\n",
            "23/38 [=================>............] - ETA: 0s - loss: 0.4284 - accuracy: 0.8366\n",
            "Epoch 100: saving model to /home/trinhnc/catkin_ws/src/ros_hand_gesture_recognition/src/model/keypoint_classifier/keypoint_classifier.hdf5\n",
            "38/38 [==============================] - 0s 4ms/step - loss: 0.4279 - accuracy: 0.8396 - val_loss: 0.1644 - val_accuracy: 0.9669\n",
            "Epoch 101/1000\n",
            "28/38 [=====================>........] - ETA: 0s - loss: 0.4270 - accuracy: 0.8412\n",
            "Epoch 101: saving model to /home/trinhnc/catkin_ws/src/ros_hand_gesture_recognition/src/model/keypoint_classifier/keypoint_classifier.hdf5\n",
            "38/38 [==============================] - 0s 8ms/step - loss: 0.4249 - accuracy: 0.8454 - val_loss: 0.1640 - val_accuracy: 0.9588\n",
            "Epoch 102/1000\n",
            "34/38 [=========================>....] - ETA: 0s - loss: 0.4127 - accuracy: 0.8479\n",
            "Epoch 102: saving model to /home/trinhnc/catkin_ws/src/ros_hand_gesture_recognition/src/model/keypoint_classifier/keypoint_classifier.hdf5\n",
            "38/38 [==============================] - 0s 5ms/step - loss: 0.4190 - accuracy: 0.8454 - val_loss: 0.1598 - val_accuracy: 0.9613\n",
            "Epoch 103/1000\n",
            "35/38 [==========================>...] - ETA: 0s - loss: 0.4253 - accuracy: 0.8478\n",
            "Epoch 103: saving model to /home/trinhnc/catkin_ws/src/ros_hand_gesture_recognition/src/model/keypoint_classifier/keypoint_classifier.hdf5\n",
            "38/38 [==============================] - 0s 5ms/step - loss: 0.4263 - accuracy: 0.8473 - val_loss: 0.1601 - val_accuracy: 0.9607\n",
            "Epoch 104/1000\n",
            "32/38 [========================>.....] - ETA: 0s - loss: 0.4335 - accuracy: 0.8384\n",
            "Epoch 104: saving model to /home/trinhnc/catkin_ws/src/ros_hand_gesture_recognition/src/model/keypoint_classifier/keypoint_classifier.hdf5\n",
            "38/38 [==============================] - 0s 6ms/step - loss: 0.4294 - accuracy: 0.8406 - val_loss: 0.1599 - val_accuracy: 0.9676\n",
            "Epoch 105/1000\n",
            "30/38 [======================>.......] - ETA: 0s - loss: 0.4366 - accuracy: 0.8380\n",
            "Epoch 105: saving model to /home/trinhnc/catkin_ws/src/ros_hand_gesture_recognition/src/model/keypoint_classifier/keypoint_classifier.hdf5\n",
            "38/38 [==============================] - 0s 7ms/step - loss: 0.4345 - accuracy: 0.8392 - val_loss: 0.1557 - val_accuracy: 0.9651\n",
            "Epoch 106/1000\n",
            "30/38 [======================>.......] - ETA: 0s - loss: 0.4241 - accuracy: 0.8482\n",
            "Epoch 106: saving model to /home/trinhnc/catkin_ws/src/ros_hand_gesture_recognition/src/model/keypoint_classifier/keypoint_classifier.hdf5\n",
            "38/38 [==============================] - 0s 7ms/step - loss: 0.4322 - accuracy: 0.8446 - val_loss: 0.1620 - val_accuracy: 0.9651\n",
            "Epoch 107/1000\n",
            "28/38 [=====================>........] - ETA: 0s - loss: 0.4343 - accuracy: 0.8393\n",
            "Epoch 107: saving model to /home/trinhnc/catkin_ws/src/ros_hand_gesture_recognition/src/model/keypoint_classifier/keypoint_classifier.hdf5\n",
            "38/38 [==============================] - 0s 6ms/step - loss: 0.4339 - accuracy: 0.8386 - val_loss: 0.1622 - val_accuracy: 0.9657\n",
            "Epoch 108/1000\n",
            "32/38 [========================>.....] - ETA: 0s - loss: 0.4196 - accuracy: 0.8457\n",
            "Epoch 108: saving model to /home/trinhnc/catkin_ws/src/ros_hand_gesture_recognition/src/model/keypoint_classifier/keypoint_classifier.hdf5\n",
            "38/38 [==============================] - 0s 6ms/step - loss: 0.4254 - accuracy: 0.8434 - val_loss: 0.1615 - val_accuracy: 0.9632\n",
            "Epoch 109/1000\n",
            "32/38 [========================>.....] - ETA: 0s - loss: 0.4265 - accuracy: 0.8435\n",
            "Epoch 109: saving model to /home/trinhnc/catkin_ws/src/ros_hand_gesture_recognition/src/model/keypoint_classifier/keypoint_classifier.hdf5\n",
            "38/38 [==============================] - 0s 11ms/step - loss: 0.4243 - accuracy: 0.8473 - val_loss: 0.1586 - val_accuracy: 0.9638\n",
            "Epoch 110/1000\n",
            "36/38 [===========================>..] - ETA: 0s - loss: 0.4306 - accuracy: 0.8388\n",
            "Epoch 110: saving model to /home/trinhnc/catkin_ws/src/ros_hand_gesture_recognition/src/model/keypoint_classifier/keypoint_classifier.hdf5\n",
            "38/38 [==============================] - 0s 5ms/step - loss: 0.4292 - accuracy: 0.8386 - val_loss: 0.1621 - val_accuracy: 0.9638\n",
            "Epoch 111/1000\n",
            "28/38 [=====================>........] - ETA: 0s - loss: 0.4423 - accuracy: 0.8432\n",
            "Epoch 111: saving model to /home/trinhnc/catkin_ws/src/ros_hand_gesture_recognition/src/model/keypoint_classifier/keypoint_classifier.hdf5\n",
            "38/38 [==============================] - 0s 4ms/step - loss: 0.4337 - accuracy: 0.8436 - val_loss: 0.1635 - val_accuracy: 0.9644\n",
            "Epoch 112/1000\n",
            "29/38 [=====================>........] - ETA: 0s - loss: 0.4274 - accuracy: 0.8416\n",
            "Epoch 112: saving model to /home/trinhnc/catkin_ws/src/ros_hand_gesture_recognition/src/model/keypoint_classifier/keypoint_classifier.hdf5\n",
            "38/38 [==============================] - 0s 5ms/step - loss: 0.4279 - accuracy: 0.8415 - val_loss: 0.1595 - val_accuracy: 0.9651\n",
            "Epoch 113/1000\n",
            "37/38 [============================>.] - ETA: 0s - loss: 0.4204 - accuracy: 0.8486\n",
            "Epoch 113: saving model to /home/trinhnc/catkin_ws/src/ros_hand_gesture_recognition/src/model/keypoint_classifier/keypoint_classifier.hdf5\n",
            "38/38 [==============================] - 0s 5ms/step - loss: 0.4200 - accuracy: 0.8486 - val_loss: 0.1557 - val_accuracy: 0.9657\n",
            "Epoch 114/1000\n",
            "30/38 [======================>.......] - ETA: 0s - loss: 0.4448 - accuracy: 0.8404\n",
            "Epoch 114: saving model to /home/trinhnc/catkin_ws/src/ros_hand_gesture_recognition/src/model/keypoint_classifier/keypoint_classifier.hdf5\n",
            "38/38 [==============================] - 0s 6ms/step - loss: 0.4420 - accuracy: 0.8384 - val_loss: 0.1580 - val_accuracy: 0.9651\n",
            "Epoch 115/1000\n",
            "30/38 [======================>.......] - ETA: 0s - loss: 0.4295 - accuracy: 0.8430\n",
            "Epoch 115: saving model to /home/trinhnc/catkin_ws/src/ros_hand_gesture_recognition/src/model/keypoint_classifier/keypoint_classifier.hdf5\n",
            "38/38 [==============================] - 0s 5ms/step - loss: 0.4342 - accuracy: 0.8427 - val_loss: 0.1531 - val_accuracy: 0.9657\n",
            "Epoch 116/1000\n",
            "37/38 [============================>.] - ETA: 0s - loss: 0.4330 - accuracy: 0.8376\n",
            "Epoch 116: saving model to /home/trinhnc/catkin_ws/src/ros_hand_gesture_recognition/src/model/keypoint_classifier/keypoint_classifier.hdf5\n",
            "38/38 [==============================] - 0s 5ms/step - loss: 0.4329 - accuracy: 0.8371 - val_loss: 0.1570 - val_accuracy: 0.9682\n",
            "Epoch 117/1000\n",
            "28/38 [=====================>........] - ETA: 0s - loss: 0.4087 - accuracy: 0.8471\n",
            "Epoch 117: saving model to /home/trinhnc/catkin_ws/src/ros_hand_gesture_recognition/src/model/keypoint_classifier/keypoint_classifier.hdf5\n",
            "38/38 [==============================] - 0s 5ms/step - loss: 0.4147 - accuracy: 0.8463 - val_loss: 0.1546 - val_accuracy: 0.9638\n",
            "Epoch 118/1000\n",
            "21/38 [===============>..............] - ETA: 0s - loss: 0.4189 - accuracy: 0.8363\n",
            "Epoch 118: saving model to /home/trinhnc/catkin_ws/src/ros_hand_gesture_recognition/src/model/keypoint_classifier/keypoint_classifier.hdf5\n",
            "38/38 [==============================] - 0s 5ms/step - loss: 0.4118 - accuracy: 0.8448 - val_loss: 0.1544 - val_accuracy: 0.9644\n",
            "Epoch 119/1000\n",
            "37/38 [============================>.] - ETA: 0s - loss: 0.4248 - accuracy: 0.8423\n",
            "Epoch 119: saving model to /home/trinhnc/catkin_ws/src/ros_hand_gesture_recognition/src/model/keypoint_classifier/keypoint_classifier.hdf5\n",
            "38/38 [==============================] - 0s 5ms/step - loss: 0.4245 - accuracy: 0.8425 - val_loss: 0.1524 - val_accuracy: 0.9676\n",
            "Epoch 120/1000\n",
            "29/38 [=====================>........] - ETA: 0s - loss: 0.4183 - accuracy: 0.8497\n",
            "Epoch 120: saving model to /home/trinhnc/catkin_ws/src/ros_hand_gesture_recognition/src/model/keypoint_classifier/keypoint_classifier.hdf5\n",
            "38/38 [==============================] - 0s 7ms/step - loss: 0.4202 - accuracy: 0.8500 - val_loss: 0.1533 - val_accuracy: 0.9676\n",
            "Epoch 121/1000\n",
            "18/38 [=============>................] - ETA: 0s - loss: 0.4467 - accuracy: 0.8398\n",
            "Epoch 121: saving model to /home/trinhnc/catkin_ws/src/ros_hand_gesture_recognition/src/model/keypoint_classifier/keypoint_classifier.hdf5\n",
            "38/38 [==============================] - 0s 4ms/step - loss: 0.4282 - accuracy: 0.8429 - val_loss: 0.1555 - val_accuracy: 0.9694\n",
            "Epoch 122/1000\n",
            "37/38 [============================>.] - ETA: 0s - loss: 0.4233 - accuracy: 0.8516\n",
            "Epoch 122: saving model to /home/trinhnc/catkin_ws/src/ros_hand_gesture_recognition/src/model/keypoint_classifier/keypoint_classifier.hdf5\n",
            "38/38 [==============================] - 0s 5ms/step - loss: 0.4228 - accuracy: 0.8515 - val_loss: 0.1541 - val_accuracy: 0.9651\n",
            "Epoch 123/1000\n",
            "27/38 [====================>.........] - ETA: 0s - loss: 0.4188 - accuracy: 0.8490\n",
            "Epoch 123: saving model to /home/trinhnc/catkin_ws/src/ros_hand_gesture_recognition/src/model/keypoint_classifier/keypoint_classifier.hdf5\n",
            "38/38 [==============================] - 0s 7ms/step - loss: 0.4202 - accuracy: 0.8498 - val_loss: 0.1525 - val_accuracy: 0.9688\n",
            "Epoch 124/1000\n",
            "36/38 [===========================>..] - ETA: 0s - loss: 0.4099 - accuracy: 0.8548\n",
            "Epoch 124: saving model to /home/trinhnc/catkin_ws/src/ros_hand_gesture_recognition/src/model/keypoint_classifier/keypoint_classifier.hdf5\n",
            "38/38 [==============================] - 0s 5ms/step - loss: 0.4076 - accuracy: 0.8556 - val_loss: 0.1556 - val_accuracy: 0.9669\n",
            "Epoch 125/1000\n",
            "25/38 [==================>...........] - ETA: 0s - loss: 0.3922 - accuracy: 0.8547\n",
            "Epoch 125: saving model to /home/trinhnc/catkin_ws/src/ros_hand_gesture_recognition/src/model/keypoint_classifier/keypoint_classifier.hdf5\n",
            "38/38 [==============================] - 0s 4ms/step - loss: 0.4054 - accuracy: 0.8506 - val_loss: 0.1450 - val_accuracy: 0.9688\n",
            "Epoch 126/1000\n",
            "29/38 [=====================>........] - ETA: 0s - loss: 0.4098 - accuracy: 0.8451\n",
            "Epoch 126: saving model to /home/trinhnc/catkin_ws/src/ros_hand_gesture_recognition/src/model/keypoint_classifier/keypoint_classifier.hdf5\n",
            "38/38 [==============================] - 0s 6ms/step - loss: 0.4205 - accuracy: 0.8446 - val_loss: 0.1471 - val_accuracy: 0.9663\n",
            "Epoch 127/1000\n",
            "34/38 [=========================>....] - ETA: 0s - loss: 0.4207 - accuracy: 0.8493\n",
            "Epoch 127: saving model to /home/trinhnc/catkin_ws/src/ros_hand_gesture_recognition/src/model/keypoint_classifier/keypoint_classifier.hdf5\n",
            "38/38 [==============================] - 0s 6ms/step - loss: 0.4197 - accuracy: 0.8504 - val_loss: 0.1519 - val_accuracy: 0.9694\n",
            "Epoch 128/1000\n",
            "37/38 [============================>.] - ETA: 0s - loss: 0.4152 - accuracy: 0.8478\n",
            "Epoch 128: saving model to /home/trinhnc/catkin_ws/src/ros_hand_gesture_recognition/src/model/keypoint_classifier/keypoint_classifier.hdf5\n",
            "38/38 [==============================] - 0s 7ms/step - loss: 0.4130 - accuracy: 0.8488 - val_loss: 0.1495 - val_accuracy: 0.9713\n",
            "Epoch 129/1000\n",
            "24/38 [=================>............] - ETA: 0s - loss: 0.4131 - accuracy: 0.8555\n",
            "Epoch 129: saving model to /home/trinhnc/catkin_ws/src/ros_hand_gesture_recognition/src/model/keypoint_classifier/keypoint_classifier.hdf5\n",
            "38/38 [==============================] - 0s 8ms/step - loss: 0.4119 - accuracy: 0.8552 - val_loss: 0.1459 - val_accuracy: 0.9657\n",
            "Epoch 130/1000\n",
            "37/38 [============================>.] - ETA: 0s - loss: 0.4241 - accuracy: 0.8476\n",
            "Epoch 130: saving model to /home/trinhnc/catkin_ws/src/ros_hand_gesture_recognition/src/model/keypoint_classifier/keypoint_classifier.hdf5\n",
            "38/38 [==============================] - 0s 9ms/step - loss: 0.4228 - accuracy: 0.8477 - val_loss: 0.1540 - val_accuracy: 0.9682\n",
            "Epoch 131/1000\n",
            "26/38 [===================>..........] - ETA: 0s - loss: 0.4089 - accuracy: 0.8516\n",
            "Epoch 131: saving model to /home/trinhnc/catkin_ws/src/ros_hand_gesture_recognition/src/model/keypoint_classifier/keypoint_classifier.hdf5\n",
            "38/38 [==============================] - 0s 8ms/step - loss: 0.4062 - accuracy: 0.8521 - val_loss: 0.1495 - val_accuracy: 0.9669\n",
            "Epoch 132/1000\n",
            "38/38 [==============================] - ETA: 0s - loss: 0.4111 - accuracy: 0.8502\n",
            "Epoch 132: saving model to /home/trinhnc/catkin_ws/src/ros_hand_gesture_recognition/src/model/keypoint_classifier/keypoint_classifier.hdf5\n",
            "38/38 [==============================] - 0s 6ms/step - loss: 0.4111 - accuracy: 0.8502 - val_loss: 0.1500 - val_accuracy: 0.9682\n",
            "Epoch 133/1000\n",
            "31/38 [=======================>......] - ETA: 0s - loss: 0.4123 - accuracy: 0.8495\n",
            "Epoch 133: saving model to /home/trinhnc/catkin_ws/src/ros_hand_gesture_recognition/src/model/keypoint_classifier/keypoint_classifier.hdf5\n",
            "38/38 [==============================] - 0s 7ms/step - loss: 0.4077 - accuracy: 0.8511 - val_loss: 0.1503 - val_accuracy: 0.9657\n",
            "Epoch 134/1000\n",
            "36/38 [===========================>..] - ETA: 0s - loss: 0.4265 - accuracy: 0.8477\n",
            "Epoch 134: saving model to /home/trinhnc/catkin_ws/src/ros_hand_gesture_recognition/src/model/keypoint_classifier/keypoint_classifier.hdf5\n",
            "38/38 [==============================] - 0s 5ms/step - loss: 0.4261 - accuracy: 0.8475 - val_loss: 0.1539 - val_accuracy: 0.9669\n",
            "Epoch 135/1000\n",
            "26/38 [===================>..........] - ETA: 0s - loss: 0.4134 - accuracy: 0.8492\n",
            "Epoch 135: saving model to /home/trinhnc/catkin_ws/src/ros_hand_gesture_recognition/src/model/keypoint_classifier/keypoint_classifier.hdf5\n",
            "38/38 [==============================] - 0s 6ms/step - loss: 0.4162 - accuracy: 0.8467 - val_loss: 0.1509 - val_accuracy: 0.9657\n",
            "Epoch 136/1000\n",
            "33/38 [=========================>....] - ETA: 0s - loss: 0.4033 - accuracy: 0.8501\n",
            "Epoch 136: saving model to /home/trinhnc/catkin_ws/src/ros_hand_gesture_recognition/src/model/keypoint_classifier/keypoint_classifier.hdf5\n",
            "38/38 [==============================] - 0s 5ms/step - loss: 0.4082 - accuracy: 0.8500 - val_loss: 0.1511 - val_accuracy: 0.9651\n",
            "Epoch 137/1000\n",
            "33/38 [=========================>....] - ETA: 0s - loss: 0.4177 - accuracy: 0.8423\n",
            "Epoch 137: saving model to /home/trinhnc/catkin_ws/src/ros_hand_gesture_recognition/src/model/keypoint_classifier/keypoint_classifier.hdf5\n",
            "38/38 [==============================] - 0s 8ms/step - loss: 0.4200 - accuracy: 0.8427 - val_loss: 0.1449 - val_accuracy: 0.9694\n",
            "Epoch 138/1000\n",
            "31/38 [=======================>......] - ETA: 0s - loss: 0.4209 - accuracy: 0.8480\n",
            "Epoch 138: saving model to /home/trinhnc/catkin_ws/src/ros_hand_gesture_recognition/src/model/keypoint_classifier/keypoint_classifier.hdf5\n",
            "38/38 [==============================] - 0s 9ms/step - loss: 0.4204 - accuracy: 0.8488 - val_loss: 0.1536 - val_accuracy: 0.9669\n",
            "Epoch 139/1000\n",
            "35/38 [==========================>...] - ETA: 0s - loss: 0.4009 - accuracy: 0.8576\n",
            "Epoch 139: saving model to /home/trinhnc/catkin_ws/src/ros_hand_gesture_recognition/src/model/keypoint_classifier/keypoint_classifier.hdf5\n",
            "38/38 [==============================] - 0s 10ms/step - loss: 0.4113 - accuracy: 0.8544 - val_loss: 0.1510 - val_accuracy: 0.9657\n",
            "Epoch 140/1000\n",
            "25/38 [==================>...........] - ETA: 0s - loss: 0.4050 - accuracy: 0.8559\n",
            "Epoch 140: saving model to /home/trinhnc/catkin_ws/src/ros_hand_gesture_recognition/src/model/keypoint_classifier/keypoint_classifier.hdf5\n",
            "38/38 [==============================] - 0s 6ms/step - loss: 0.4142 - accuracy: 0.8494 - val_loss: 0.1499 - val_accuracy: 0.9676\n",
            "Epoch 141/1000\n",
            "37/38 [============================>.] - ETA: 0s - loss: 0.4126 - accuracy: 0.8467\n",
            "Epoch 141: saving model to /home/trinhnc/catkin_ws/src/ros_hand_gesture_recognition/src/model/keypoint_classifier/keypoint_classifier.hdf5\n",
            "38/38 [==============================] - 0s 7ms/step - loss: 0.4131 - accuracy: 0.8465 - val_loss: 0.1490 - val_accuracy: 0.9663\n",
            "Epoch 142/1000\n",
            "32/38 [========================>.....] - ETA: 0s - loss: 0.3906 - accuracy: 0.8574\n",
            "Epoch 142: saving model to /home/trinhnc/catkin_ws/src/ros_hand_gesture_recognition/src/model/keypoint_classifier/keypoint_classifier.hdf5\n",
            "38/38 [==============================] - 0s 8ms/step - loss: 0.3879 - accuracy: 0.8587 - val_loss: 0.1449 - val_accuracy: 0.9669\n",
            "Epoch 143/1000\n",
            "34/38 [=========================>....] - ETA: 0s - loss: 0.3951 - accuracy: 0.8550\n",
            "Epoch 143: saving model to /home/trinhnc/catkin_ws/src/ros_hand_gesture_recognition/src/model/keypoint_classifier/keypoint_classifier.hdf5\n",
            "38/38 [==============================] - 0s 7ms/step - loss: 0.3902 - accuracy: 0.8552 - val_loss: 0.1434 - val_accuracy: 0.9707\n",
            "Epoch 144/1000\n",
            "28/38 [=====================>........] - ETA: 0s - loss: 0.4020 - accuracy: 0.8521\n",
            "Epoch 144: saving model to /home/trinhnc/catkin_ws/src/ros_hand_gesture_recognition/src/model/keypoint_classifier/keypoint_classifier.hdf5\n",
            "38/38 [==============================] - 0s 4ms/step - loss: 0.4026 - accuracy: 0.8511 - val_loss: 0.1453 - val_accuracy: 0.9682\n",
            "Epoch 145/1000\n",
            "31/38 [=======================>......] - ETA: 0s - loss: 0.3982 - accuracy: 0.8574\n",
            "Epoch 145: saving model to /home/trinhnc/catkin_ws/src/ros_hand_gesture_recognition/src/model/keypoint_classifier/keypoint_classifier.hdf5\n",
            "38/38 [==============================] - 0s 6ms/step - loss: 0.3991 - accuracy: 0.8535 - val_loss: 0.1471 - val_accuracy: 0.9682\n",
            "Epoch 146/1000\n",
            "24/38 [=================>............] - ETA: 0s - loss: 0.4056 - accuracy: 0.8486\n",
            "Epoch 146: saving model to /home/trinhnc/catkin_ws/src/ros_hand_gesture_recognition/src/model/keypoint_classifier/keypoint_classifier.hdf5\n",
            "38/38 [==============================] - 0s 4ms/step - loss: 0.4097 - accuracy: 0.8511 - val_loss: 0.1486 - val_accuracy: 0.9713\n",
            "Epoch 147/1000\n",
            "37/38 [============================>.] - ETA: 0s - loss: 0.3887 - accuracy: 0.8619\n",
            "Epoch 147: saving model to /home/trinhnc/catkin_ws/src/ros_hand_gesture_recognition/src/model/keypoint_classifier/keypoint_classifier.hdf5\n",
            "38/38 [==============================] - 0s 13ms/step - loss: 0.3878 - accuracy: 0.8623 - val_loss: 0.1459 - val_accuracy: 0.9701\n",
            "Epoch 148/1000\n",
            "33/38 [=========================>....] - ETA: 0s - loss: 0.3976 - accuracy: 0.8563\n",
            "Epoch 148: saving model to /home/trinhnc/catkin_ws/src/ros_hand_gesture_recognition/src/model/keypoint_classifier/keypoint_classifier.hdf5\n",
            "38/38 [==============================] - 0s 9ms/step - loss: 0.3980 - accuracy: 0.8565 - val_loss: 0.1481 - val_accuracy: 0.9682\n",
            "Epoch 149/1000\n",
            "38/38 [==============================] - ETA: 0s - loss: 0.3963 - accuracy: 0.8581\n",
            "Epoch 149: saving model to /home/trinhnc/catkin_ws/src/ros_hand_gesture_recognition/src/model/keypoint_classifier/keypoint_classifier.hdf5\n",
            "38/38 [==============================] - 0s 12ms/step - loss: 0.3963 - accuracy: 0.8581 - val_loss: 0.1470 - val_accuracy: 0.9682\n",
            "Epoch 150/1000\n",
            "31/38 [=======================>......] - ETA: 0s - loss: 0.3999 - accuracy: 0.8536\n",
            "Epoch 150: saving model to /home/trinhnc/catkin_ws/src/ros_hand_gesture_recognition/src/model/keypoint_classifier/keypoint_classifier.hdf5\n",
            "38/38 [==============================] - 0s 6ms/step - loss: 0.3947 - accuracy: 0.8577 - val_loss: 0.1396 - val_accuracy: 0.9707\n",
            "Epoch 151/1000\n",
            "37/38 [============================>.] - ETA: 0s - loss: 0.4085 - accuracy: 0.8486\n",
            "Epoch 151: saving model to /home/trinhnc/catkin_ws/src/ros_hand_gesture_recognition/src/model/keypoint_classifier/keypoint_classifier.hdf5\n",
            "38/38 [==============================] - 0s 7ms/step - loss: 0.4086 - accuracy: 0.8481 - val_loss: 0.1411 - val_accuracy: 0.9713\n",
            "Epoch 152/1000\n",
            "22/38 [================>.............] - ETA: 0s - loss: 0.3936 - accuracy: 0.8590\n",
            "Epoch 152: saving model to /home/trinhnc/catkin_ws/src/ros_hand_gesture_recognition/src/model/keypoint_classifier/keypoint_classifier.hdf5\n",
            "38/38 [==============================] - 0s 4ms/step - loss: 0.4033 - accuracy: 0.8533 - val_loss: 0.1382 - val_accuracy: 0.9726\n",
            "Epoch 153/1000\n",
            "24/38 [=================>............] - ETA: 0s - loss: 0.4163 - accuracy: 0.8529\n",
            "Epoch 153: saving model to /home/trinhnc/catkin_ws/src/ros_hand_gesture_recognition/src/model/keypoint_classifier/keypoint_classifier.hdf5\n",
            "38/38 [==============================] - 0s 6ms/step - loss: 0.4151 - accuracy: 0.8523 - val_loss: 0.1429 - val_accuracy: 0.9688\n",
            "Epoch 154/1000\n",
            "37/38 [============================>.] - ETA: 0s - loss: 0.3993 - accuracy: 0.8562\n",
            "Epoch 154: saving model to /home/trinhnc/catkin_ws/src/ros_hand_gesture_recognition/src/model/keypoint_classifier/keypoint_classifier.hdf5\n",
            "38/38 [==============================] - 0s 5ms/step - loss: 0.4007 - accuracy: 0.8552 - val_loss: 0.1488 - val_accuracy: 0.9663\n",
            "Epoch 155/1000\n",
            "22/38 [================>.............] - ETA: 0s - loss: 0.4051 - accuracy: 0.8590\n",
            "Epoch 155: saving model to /home/trinhnc/catkin_ws/src/ros_hand_gesture_recognition/src/model/keypoint_classifier/keypoint_classifier.hdf5\n",
            "38/38 [==============================] - 0s 4ms/step - loss: 0.4094 - accuracy: 0.8535 - val_loss: 0.1451 - val_accuracy: 0.9682\n",
            "Epoch 156/1000\n",
            "21/38 [===============>..............] - ETA: 0s - loss: 0.4084 - accuracy: 0.8504\n",
            "Epoch 156: saving model to /home/trinhnc/catkin_ws/src/ros_hand_gesture_recognition/src/model/keypoint_classifier/keypoint_classifier.hdf5\n",
            "38/38 [==============================] - 0s 5ms/step - loss: 0.4093 - accuracy: 0.8515 - val_loss: 0.1509 - val_accuracy: 0.9663\n",
            "Epoch 157/1000\n",
            "31/38 [=======================>......] - ETA: 0s - loss: 0.4118 - accuracy: 0.8543\n",
            "Epoch 157: saving model to /home/trinhnc/catkin_ws/src/ros_hand_gesture_recognition/src/model/keypoint_classifier/keypoint_classifier.hdf5\n",
            "38/38 [==============================] - 0s 8ms/step - loss: 0.4088 - accuracy: 0.8527 - val_loss: 0.1482 - val_accuracy: 0.9657\n",
            "Epoch 158/1000\n",
            "25/38 [==================>...........] - ETA: 0s - loss: 0.4088 - accuracy: 0.8512\n",
            "Epoch 158: saving model to /home/trinhnc/catkin_ws/src/ros_hand_gesture_recognition/src/model/keypoint_classifier/keypoint_classifier.hdf5\n",
            "38/38 [==============================] - 0s 8ms/step - loss: 0.4085 - accuracy: 0.8525 - val_loss: 0.1463 - val_accuracy: 0.9676\n",
            "Epoch 159/1000\n",
            "24/38 [=================>............] - ETA: 0s - loss: 0.3909 - accuracy: 0.8581\n",
            "Epoch 159: saving model to /home/trinhnc/catkin_ws/src/ros_hand_gesture_recognition/src/model/keypoint_classifier/keypoint_classifier.hdf5\n",
            "38/38 [==============================] - 0s 6ms/step - loss: 0.3983 - accuracy: 0.8540 - val_loss: 0.1409 - val_accuracy: 0.9713\n",
            "Epoch 160/1000\n",
            "31/38 [=======================>......] - ETA: 0s - loss: 0.4098 - accuracy: 0.8453\n",
            "Epoch 160: saving model to /home/trinhnc/catkin_ws/src/ros_hand_gesture_recognition/src/model/keypoint_classifier/keypoint_classifier.hdf5\n",
            "38/38 [==============================] - 0s 6ms/step - loss: 0.4062 - accuracy: 0.8483 - val_loss: 0.1540 - val_accuracy: 0.9638\n",
            "Epoch 161/1000\n",
            "15/38 [==========>...................] - ETA: 0s - loss: 0.3858 - accuracy: 0.8661\n",
            "Epoch 161: saving model to /home/trinhnc/catkin_ws/src/ros_hand_gesture_recognition/src/model/keypoint_classifier/keypoint_classifier.hdf5\n",
            "38/38 [==============================] - 0s 4ms/step - loss: 0.3998 - accuracy: 0.8521 - val_loss: 0.1435 - val_accuracy: 0.9682\n",
            "Epoch 162/1000\n",
            "27/38 [====================>.........] - ETA: 0s - loss: 0.4109 - accuracy: 0.8519\n",
            "Epoch 162: saving model to /home/trinhnc/catkin_ws/src/ros_hand_gesture_recognition/src/model/keypoint_classifier/keypoint_classifier.hdf5\n",
            "38/38 [==============================] - 0s 8ms/step - loss: 0.4090 - accuracy: 0.8565 - val_loss: 0.1426 - val_accuracy: 0.9701\n",
            "Epoch 163/1000\n",
            "20/38 [==============>...............] - ETA: 0s - loss: 0.4149 - accuracy: 0.8418\n",
            "Epoch 163: saving model to /home/trinhnc/catkin_ws/src/ros_hand_gesture_recognition/src/model/keypoint_classifier/keypoint_classifier.hdf5\n",
            "38/38 [==============================] - 0s 6ms/step - loss: 0.4055 - accuracy: 0.8475 - val_loss: 0.1465 - val_accuracy: 0.9669\n",
            "Epoch 164/1000\n",
            "31/38 [=======================>......] - ETA: 0s - loss: 0.4172 - accuracy: 0.8445\n",
            "Epoch 164: saving model to /home/trinhnc/catkin_ws/src/ros_hand_gesture_recognition/src/model/keypoint_classifier/keypoint_classifier.hdf5\n",
            "38/38 [==============================] - 0s 5ms/step - loss: 0.4143 - accuracy: 0.8483 - val_loss: 0.1493 - val_accuracy: 0.9694\n",
            "Epoch 165/1000\n",
            "19/38 [==============>...............] - ETA: 0s - loss: 0.3679 - accuracy: 0.8565\n",
            "Epoch 165: saving model to /home/trinhnc/catkin_ws/src/ros_hand_gesture_recognition/src/model/keypoint_classifier/keypoint_classifier.hdf5\n",
            "38/38 [==============================] - 0s 4ms/step - loss: 0.3758 - accuracy: 0.8623 - val_loss: 0.1431 - val_accuracy: 0.9694\n",
            "Epoch 166/1000\n",
            "33/38 [=========================>....] - ETA: 0s - loss: 0.3996 - accuracy: 0.8584\n",
            "Epoch 166: saving model to /home/trinhnc/catkin_ws/src/ros_hand_gesture_recognition/src/model/keypoint_classifier/keypoint_classifier.hdf5\n",
            "38/38 [==============================] - 0s 5ms/step - loss: 0.3986 - accuracy: 0.8592 - val_loss: 0.1425 - val_accuracy: 0.9688\n",
            "Epoch 167/1000\n",
            "33/38 [=========================>....] - ETA: 0s - loss: 0.4021 - accuracy: 0.8537\n",
            "Epoch 167: saving model to /home/trinhnc/catkin_ws/src/ros_hand_gesture_recognition/src/model/keypoint_classifier/keypoint_classifier.hdf5\n",
            "38/38 [==============================] - 0s 6ms/step - loss: 0.3989 - accuracy: 0.8550 - val_loss: 0.1433 - val_accuracy: 0.9701\n",
            "Epoch 168/1000\n",
            "30/38 [======================>.......] - ETA: 0s - loss: 0.3968 - accuracy: 0.8508\n",
            "Epoch 168: saving model to /home/trinhnc/catkin_ws/src/ros_hand_gesture_recognition/src/model/keypoint_classifier/keypoint_classifier.hdf5\n",
            "38/38 [==============================] - 0s 6ms/step - loss: 0.3931 - accuracy: 0.8504 - val_loss: 0.1396 - val_accuracy: 0.9694\n",
            "Epoch 169/1000\n",
            "34/38 [=========================>....] - ETA: 0s - loss: 0.4039 - accuracy: 0.8587\n",
            "Epoch 169: saving model to /home/trinhnc/catkin_ws/src/ros_hand_gesture_recognition/src/model/keypoint_classifier/keypoint_classifier.hdf5\n",
            "38/38 [==============================] - 0s 5ms/step - loss: 0.4005 - accuracy: 0.8598 - val_loss: 0.1356 - val_accuracy: 0.9719\n",
            "Epoch 170/1000\n",
            "20/38 [==============>...............] - ETA: 0s - loss: 0.4076 - accuracy: 0.8461\n",
            "Epoch 170: saving model to /home/trinhnc/catkin_ws/src/ros_hand_gesture_recognition/src/model/keypoint_classifier/keypoint_classifier.hdf5\n",
            "38/38 [==============================] - 0s 5ms/step - loss: 0.3962 - accuracy: 0.8550 - val_loss: 0.1359 - val_accuracy: 0.9719\n",
            "Epoch 171/1000\n",
            "37/38 [============================>.] - ETA: 0s - loss: 0.3890 - accuracy: 0.8575\n",
            "Epoch 171: saving model to /home/trinhnc/catkin_ws/src/ros_hand_gesture_recognition/src/model/keypoint_classifier/keypoint_classifier.hdf5\n",
            "38/38 [==============================] - 0s 5ms/step - loss: 0.3886 - accuracy: 0.8575 - val_loss: 0.1392 - val_accuracy: 0.9719\n",
            "Epoch 172/1000\n",
            "20/38 [==============>...............] - ETA: 0s - loss: 0.3943 - accuracy: 0.8645\n",
            "Epoch 172: saving model to /home/trinhnc/catkin_ws/src/ros_hand_gesture_recognition/src/model/keypoint_classifier/keypoint_classifier.hdf5\n",
            "38/38 [==============================] - 0s 4ms/step - loss: 0.3928 - accuracy: 0.8629 - val_loss: 0.1401 - val_accuracy: 0.9701\n",
            "Epoch 173/1000\n",
            "34/38 [=========================>....] - ETA: 0s - loss: 0.4046 - accuracy: 0.8564\n",
            "Epoch 173: saving model to /home/trinhnc/catkin_ws/src/ros_hand_gesture_recognition/src/model/keypoint_classifier/keypoint_classifier.hdf5\n",
            "38/38 [==============================] - 0s 5ms/step - loss: 0.4001 - accuracy: 0.8592 - val_loss: 0.1463 - val_accuracy: 0.9707\n",
            "Epoch 174/1000\n",
            "32/38 [========================>.....] - ETA: 0s - loss: 0.3881 - accuracy: 0.8584\n",
            "Epoch 174: saving model to /home/trinhnc/catkin_ws/src/ros_hand_gesture_recognition/src/model/keypoint_classifier/keypoint_classifier.hdf5\n",
            "38/38 [==============================] - 0s 6ms/step - loss: 0.3857 - accuracy: 0.8600 - val_loss: 0.1437 - val_accuracy: 0.9688\n",
            "Epoch 175/1000\n",
            "33/38 [=========================>....] - ETA: 0s - loss: 0.3890 - accuracy: 0.8594\n",
            "Epoch 175: saving model to /home/trinhnc/catkin_ws/src/ros_hand_gesture_recognition/src/model/keypoint_classifier/keypoint_classifier.hdf5\n",
            "38/38 [==============================] - 0s 7ms/step - loss: 0.3960 - accuracy: 0.8558 - val_loss: 0.1481 - val_accuracy: 0.9682\n",
            "Epoch 176/1000\n",
            "31/38 [=======================>......] - ETA: 0s - loss: 0.3871 - accuracy: 0.8594\n",
            "Epoch 176: saving model to /home/trinhnc/catkin_ws/src/ros_hand_gesture_recognition/src/model/keypoint_classifier/keypoint_classifier.hdf5\n",
            "38/38 [==============================] - 0s 6ms/step - loss: 0.3894 - accuracy: 0.8585 - val_loss: 0.1392 - val_accuracy: 0.9719\n",
            "Epoch 177/1000\n",
            "37/38 [============================>.] - ETA: 0s - loss: 0.4022 - accuracy: 0.8562\n",
            "Epoch 177: saving model to /home/trinhnc/catkin_ws/src/ros_hand_gesture_recognition/src/model/keypoint_classifier/keypoint_classifier.hdf5\n",
            "38/38 [==============================] - 0s 8ms/step - loss: 0.4014 - accuracy: 0.8565 - val_loss: 0.1416 - val_accuracy: 0.9713\n",
            "Epoch 178/1000\n",
            "34/38 [=========================>....] - ETA: 0s - loss: 0.3966 - accuracy: 0.8557\n",
            "Epoch 178: saving model to /home/trinhnc/catkin_ws/src/ros_hand_gesture_recognition/src/model/keypoint_classifier/keypoint_classifier.hdf5\n",
            "38/38 [==============================] - 0s 6ms/step - loss: 0.3962 - accuracy: 0.8556 - val_loss: 0.1447 - val_accuracy: 0.9701\n",
            "Epoch 179/1000\n",
            "34/38 [=========================>....] - ETA: 0s - loss: 0.3860 - accuracy: 0.8582\n",
            "Epoch 179: saving model to /home/trinhnc/catkin_ws/src/ros_hand_gesture_recognition/src/model/keypoint_classifier/keypoint_classifier.hdf5\n",
            "38/38 [==============================] - 0s 6ms/step - loss: 0.3820 - accuracy: 0.8592 - val_loss: 0.1366 - val_accuracy: 0.9713\n",
            "Epoch 180/1000\n",
            "35/38 [==========================>...] - ETA: 0s - loss: 0.4006 - accuracy: 0.8500\n",
            "Epoch 180: saving model to /home/trinhnc/catkin_ws/src/ros_hand_gesture_recognition/src/model/keypoint_classifier/keypoint_classifier.hdf5\n",
            "38/38 [==============================] - 0s 5ms/step - loss: 0.3985 - accuracy: 0.8498 - val_loss: 0.1407 - val_accuracy: 0.9707\n",
            "Epoch 181/1000\n",
            "20/38 [==============>...............] - ETA: 0s - loss: 0.3945 - accuracy: 0.8535\n",
            "Epoch 181: saving model to /home/trinhnc/catkin_ws/src/ros_hand_gesture_recognition/src/model/keypoint_classifier/keypoint_classifier.hdf5\n",
            "38/38 [==============================] - 0s 5ms/step - loss: 0.3901 - accuracy: 0.8569 - val_loss: 0.1457 - val_accuracy: 0.9688\n",
            "Epoch 182/1000\n",
            "26/38 [===================>..........] - ETA: 0s - loss: 0.3847 - accuracy: 0.8654\n",
            "Epoch 182: saving model to /home/trinhnc/catkin_ws/src/ros_hand_gesture_recognition/src/model/keypoint_classifier/keypoint_classifier.hdf5\n",
            "38/38 [==============================] - 0s 4ms/step - loss: 0.3864 - accuracy: 0.8623 - val_loss: 0.1377 - val_accuracy: 0.9719\n",
            "Epoch 183/1000\n",
            "19/38 [==============>...............] - ETA: 0s - loss: 0.3739 - accuracy: 0.8557\n",
            "Epoch 183: saving model to /home/trinhnc/catkin_ws/src/ros_hand_gesture_recognition/src/model/keypoint_classifier/keypoint_classifier.hdf5\n",
            "38/38 [==============================] - 0s 5ms/step - loss: 0.3953 - accuracy: 0.8473 - val_loss: 0.1366 - val_accuracy: 0.9726\n",
            "Epoch 184/1000\n",
            "28/38 [=====================>........] - ETA: 0s - loss: 0.3958 - accuracy: 0.8530\n",
            "Epoch 184: saving model to /home/trinhnc/catkin_ws/src/ros_hand_gesture_recognition/src/model/keypoint_classifier/keypoint_classifier.hdf5\n",
            "38/38 [==============================] - 0s 6ms/step - loss: 0.3940 - accuracy: 0.8552 - val_loss: 0.1403 - val_accuracy: 0.9726\n",
            "Epoch 185/1000\n",
            "31/38 [=======================>......] - ETA: 0s - loss: 0.3701 - accuracy: 0.8649\n",
            "Epoch 185: saving model to /home/trinhnc/catkin_ws/src/ros_hand_gesture_recognition/src/model/keypoint_classifier/keypoint_classifier.hdf5\n",
            "38/38 [==============================] - 0s 6ms/step - loss: 0.3803 - accuracy: 0.8615 - val_loss: 0.1402 - val_accuracy: 0.9719\n",
            "Epoch 186/1000\n",
            "37/38 [============================>.] - ETA: 0s - loss: 0.3858 - accuracy: 0.8640\n",
            "Epoch 186: saving model to /home/trinhnc/catkin_ws/src/ros_hand_gesture_recognition/src/model/keypoint_classifier/keypoint_classifier.hdf5\n",
            "38/38 [==============================] - 0s 5ms/step - loss: 0.3890 - accuracy: 0.8635 - val_loss: 0.1471 - val_accuracy: 0.9694\n",
            "Epoch 187/1000\n",
            "23/38 [=================>............] - ETA: 0s - loss: 0.3769 - accuracy: 0.8563\n",
            "Epoch 187: saving model to /home/trinhnc/catkin_ws/src/ros_hand_gesture_recognition/src/model/keypoint_classifier/keypoint_classifier.hdf5\n",
            "38/38 [==============================] - 0s 5ms/step - loss: 0.3921 - accuracy: 0.8552 - val_loss: 0.1435 - val_accuracy: 0.9719\n",
            "Epoch 188/1000\n",
            "24/38 [=================>............] - ETA: 0s - loss: 0.3916 - accuracy: 0.8620\n",
            "Epoch 188: saving model to /home/trinhnc/catkin_ws/src/ros_hand_gesture_recognition/src/model/keypoint_classifier/keypoint_classifier.hdf5\n",
            "38/38 [==============================] - 0s 4ms/step - loss: 0.3969 - accuracy: 0.8621 - val_loss: 0.1449 - val_accuracy: 0.9701\n",
            "Epoch 189/1000\n",
            "19/38 [==============>...............] - ETA: 0s - loss: 0.4165 - accuracy: 0.8532\n",
            "Epoch 189: saving model to /home/trinhnc/catkin_ws/src/ros_hand_gesture_recognition/src/model/keypoint_classifier/keypoint_classifier.hdf5\n",
            "38/38 [==============================] - 0s 6ms/step - loss: 0.4119 - accuracy: 0.8517 - val_loss: 0.1405 - val_accuracy: 0.9701\n",
            "Epoch 189: early stopping\n"
          ]
        },
        {
          "data": {
            "text/plain": [
              "<keras.callbacks.History at 0x7f90996260d0>"
            ]
          },
          "execution_count": 26,
          "metadata": {},
          "output_type": "execute_result"
        }
      ],
      "source": [
        "model.fit(\n",
        "    X_train,\n",
        "    y_train,\n",
        "    epochs=1000,\n",
        "    batch_size=128,\n",
        "    validation_data=(X_test, y_test),\n",
        "    callbacks=[cp_callback, es_callback]\n",
        ")"
      ]
    },
    {
      "cell_type": "code",
      "execution_count": 27,
      "metadata": {
        "colab": {
          "base_uri": "https://localhost:8080/"
        },
        "id": "pxvb2Y299hE3",
        "outputId": "59eb3185-2e37-4b9e-bc9d-ab1b8ac29b7f"
      },
      "outputs": [
        {
          "name": "stdout",
          "output_type": "stream",
          "text": [
            "13/13 [==============================] - 0s 2ms/step - loss: 0.1405 - accuracy: 0.9701\n"
          ]
        }
      ],
      "source": [
        "# Model evaluation\n",
        "val_loss, val_acc = model.evaluate(X_test, y_test, batch_size=128)"
      ]
    },
    {
      "cell_type": "code",
      "execution_count": 28,
      "metadata": {
        "id": "RBkmDeUW9hE4"
      },
      "outputs": [],
      "source": [
        "# Loading the saved model\n",
        "model = tf.keras.models.load_model(model_save_path)"
      ]
    },
    {
      "cell_type": "code",
      "execution_count": 29,
      "metadata": {
        "colab": {
          "base_uri": "https://localhost:8080/"
        },
        "id": "tFz9Tb0I9hE4",
        "outputId": "1c3b3528-54ae-4ee2-ab04-77429211cbef"
      },
      "outputs": [
        {
          "name": "stdout",
          "output_type": "stream",
          "text": [
            "1/1 [==============================] - 0s 97ms/step\n",
            "[6.7029712e-03 1.4374901e-01 4.5037199e-10 2.2386561e-10 8.4954673e-01\n",
            " 1.3483615e-06]\n",
            "4\n"
          ]
        }
      ],
      "source": [
        "# Inference test\n",
        "predict_result = model.predict(np.array([X_test[0]]))\n",
        "print(np.squeeze(predict_result))\n",
        "print(np.argmax(np.squeeze(predict_result)))"
      ]
    },
    {
      "cell_type": "markdown",
      "metadata": {
        "id": "S3U4yNWx9hE4"
      },
      "source": [
        "# Confusion matrix"
      ]
    },
    {
      "cell_type": "code",
      "execution_count": 31,
      "metadata": {
        "colab": {
          "base_uri": "https://localhost:8080/",
          "height": 582
        },
        "id": "AP1V6SCk9hE5",
        "outputId": "08e41a80-7a4a-4619-8125-ecc371368d19"
      },
      "outputs": [
        {
          "name": "stdout",
          "output_type": "stream",
          "text": [
            "51/51 [==============================] - 0s 2ms/step\n"
          ]
        },
        {
          "data": {
            "image/png": "[encoded data removed]",
            "text/plain": [
              "<Figure size 700x600 with 2 Axes>"
            ]
          },
          "metadata": {},
          "output_type": "display_data"
        },
        {
          "name": "stdout",
          "output_type": "stream",
          "text": [
            "Classification Report\n",
            "              precision    recall  f1-score   support\n",
            "\n",
            "           0       0.98      0.99      0.98       415\n",
            "           1       0.99      0.90      0.94       395\n",
            "           2       0.95      1.00      0.97       176\n",
            "           3       0.99      1.00      0.99       261\n",
            "           4       0.93      1.00      0.96       175\n",
            "           5       0.95      0.99      0.97       181\n",
            "\n",
            "    accuracy                           0.97      1603\n",
            "   macro avg       0.96      0.98      0.97      1603\n",
            "weighted avg       0.97      0.97      0.97      1603\n",
            "\n"
          ]
        }
      ],
      "source": [
        "import pandas as pd\n",
        "import seaborn as sns\n",
        "import matplotlib.pyplot as plt\n",
        "from sklearn.metrics import confusion_matrix, classification_report\n",
        "\n",
        "def print_confusion_matrix(y_true, y_pred, report=True):\n",
        "    labels = sorted(list(set(y_true)))\n",
        "    cmx_data = confusion_matrix(y_true, y_pred, labels=labels)\n",
        "    \n",
        "    df_cmx = pd.DataFrame(cmx_data, index=labels, columns=labels)\n",
        " \n",
        "    fig, ax = plt.subplots(figsize=(7, 6))\n",
        "    sns.heatmap(df_cmx, annot=True, fmt='g' ,square=False)\n",
        "    ax.set_ylim(len(set(y_true)), 0)\n",
        "    plt.show()\n",
        "    \n",
        "    if report:\n",
        "        print('Classification Report')\n",
        "        print(classification_report(y_test, y_pred))\n",
        "\n",
        "Y_pred = model.predict(X_test)\n",
        "y_pred = np.argmax(Y_pred, axis=1)\n",
        "\n",
        "print_confusion_matrix(y_test, y_pred)"
      ]
    },
    {
      "cell_type": "markdown",
      "metadata": {
        "id": "FNP6aqzc9hE5"
      },
      "source": [
        "# Convert to model for Tensorflow-Lite"
      ]
    },
    {
      "cell_type": "code",
      "execution_count": 32,
      "metadata": {
        "id": "ODjnYyld9hE6"
      },
      "outputs": [],
      "source": [
        "# Save as a model dedicated to inference\n",
        "model.save(model_save_path, include_optimizer=False)"
      ]
    },
    {
      "cell_type": "code",
      "execution_count": 33,
      "metadata": {
        "colab": {
          "base_uri": "https://localhost:8080/"
        },
        "id": "zRfuK8Y59hE6",
        "outputId": "a4ca585c-b5d5-4244-8291-8674063209bb"
      },
      "outputs": [
        {
          "name": "stdout",
          "output_type": "stream",
          "text": [
            "INFO:tensorflow:Assets written to: /tmp/tmpk8m91t3_/assets\n"
          ]
        },
        {
          "name": "stderr",
          "output_type": "stream",
          "text": [
            "2022-12-31 00:20:20.189384: W tensorflow/compiler/mlir/lite/python/tf_tfl_flatbuffer_helpers.cc:362] Ignored output_format.\n",
            "2022-12-31 00:20:20.189436: W tensorflow/compiler/mlir/lite/python/tf_tfl_flatbuffer_helpers.cc:365] Ignored drop_control_dependency.\n",
            "2022-12-31 00:20:20.190119: I tensorflow/cc/saved_model/reader.cc:45] Reading SavedModel from: /tmp/tmpk8m91t3_\n",
            "2022-12-31 00:20:20.226265: I tensorflow/cc/saved_model/reader.cc:89] Reading meta graph with tags { serve }\n",
            "2022-12-31 00:20:20.226322: I tensorflow/cc/saved_model/reader.cc:130] Reading SavedModel debug info (if present) from: /tmp/tmpk8m91t3_\n",
            "2022-12-31 00:20:20.306180: I tensorflow/compiler/mlir/mlir_graph_optimization_pass.cc:354] MLIR V1 optimization pass is not enabled\n",
            "2022-12-31 00:20:20.313159: I tensorflow/cc/saved_model/loader.cc:229] Restoring SavedModel bundle.\n",
            "2022-12-31 00:20:20.488371: I tensorflow/cc/saved_model/loader.cc:213] Running initialization op on SavedModel bundle at path: /tmp/tmpk8m91t3_\n",
            "2022-12-31 00:20:20.529855: I tensorflow/cc/saved_model/loader.cc:305] SavedModel load for tags { serve }; Status: success: OK. Took 339737 microseconds.\n",
            "2022-12-31 00:20:20.784109: I tensorflow/compiler/mlir/tensorflow/utils/dump_mlir_util.cc:268] disabling MLIR crash reproducer, set env var `MLIR_CRASH_REPRODUCER_DIRECTORY` to enable.\n"
          ]
        },
        {
          "data": {
            "text/plain": [
              "6660"
            ]
          },
          "execution_count": 33,
          "metadata": {},
          "output_type": "execute_result"
        }
      ],
      "source": [
        "# Transform model (quantization)\n",
        "\n",
        "converter = tf.lite.TFLiteConverter.from_keras_model(model)\n",
        "converter.optimizations = [tf.lite.Optimize.DEFAULT]\n",
        "tflite_quantized_model = converter.convert()\n",
        "\n",
        "open(tflite_save_path, 'wb').write(tflite_quantized_model)"
      ]
    },
    {
      "cell_type": "markdown",
      "metadata": {
        "id": "CHBPBXdx9hE6"
      },
      "source": [
        "# Inference test"
      ]
    },
    {
      "cell_type": "code",
      "execution_count": 34,
      "metadata": {
        "id": "mGAzLocO9hE7"
      },
      "outputs": [
        {
          "name": "stderr",
          "output_type": "stream",
          "text": [
            "INFO: Created TensorFlow Lite XNNPACK delegate for CPU.\n"
          ]
        }
      ],
      "source": [
        "interpreter = tf.lite.Interpreter(model_path=tflite_save_path)\n",
        "interpreter.allocate_tensors()"
      ]
    },
    {
      "cell_type": "code",
      "execution_count": 35,
      "metadata": {
        "id": "oQuDK8YS9hE7"
      },
      "outputs": [],
      "source": [
        "# Get I / O tensor\n",
        "input_details = interpreter.get_input_details()\n",
        "output_details = interpreter.get_output_details()"
      ]
    },
    {
      "cell_type": "code",
      "execution_count": 36,
      "metadata": {
        "id": "2_ixAf_l9hE7"
      },
      "outputs": [],
      "source": [
        "interpreter.set_tensor(input_details[0]['index'], np.array([X_test[0]]))"
      ]
    },
    {
      "cell_type": "code",
      "execution_count": 37,
      "metadata": {
        "colab": {
          "base_uri": "https://localhost:8080/"
        },
        "id": "s4FoAnuc9hE7",
        "outputId": "91f18257-8d8b-4ef3-c558-e9b5f94fabbf",
        "scrolled": true
      },
      "outputs": [
        {
          "name": "stdout",
          "output_type": "stream",
          "text": [
            "CPU times: user 1.59 ms, sys: 128 µs, total: 1.72 ms\n",
            "Wall time: 5.75 ms\n"
          ]
        }
      ],
      "source": [
        "%%time\n",
        "# Inference implementation\n",
        "interpreter.invoke()\n",
        "tflite_results = interpreter.get_tensor(output_details[0]['index'])"
      ]
    },
    {
      "cell_type": "code",
      "execution_count": 38,
      "metadata": {
        "colab": {
          "base_uri": "https://localhost:8080/"
        },
        "id": "vONjp19J9hE8",
        "outputId": "77205e24-fd00-42c4-f7b6-e06e527c2cba"
      },
      "outputs": [
        {
          "name": "stdout",
          "output_type": "stream",
          "text": [
            "[6.7029702e-03 1.4374894e-01 4.5037366e-10 2.2386601e-10 8.4954673e-01\n",
            " 1.3483626e-06]\n",
            "4\n"
          ]
        }
      ],
      "source": [
        "print(np.squeeze(tflite_results))\n",
        "print(np.argmax(np.squeeze(tflite_results)))"
      ]
    },
    {
      "cell_type": "code",
      "execution_count": null,
      "metadata": {},
      "outputs": [],
      "source": []
    }
  ],
  "metadata": {
    "accelerator": "GPU",
    "colab": {
      "collapsed_sections": [],
      "name": "keypoint_classification_EN.ipynb",
      "provenance": [],
      "toc_visible": true
    },
    "kernelspec": {
      "display_name": "Python 3",
      "language": "python",
      "name": "python3"
    },
    "language_info": {
      "codemirror_mode": {
        "name": "ipython",
        "version": 3
      },
      "file_extension": ".py",
      "mimetype": "text/x-python",
      "name": "python",
      "nbconvert_exporter": "python",
      "pygments_lexer": "ipython3",
      "version": "3.8.10"
    },
    "vscode": {
      "interpreter": {
        "hash": "916dbcbb3f70747c44a77c7bcd40155683ae19c65e1c03b4aa3499c5328201f1"
      }
    }
  },
  "nbformat": 4,
  "nbformat_minor": 0
}
